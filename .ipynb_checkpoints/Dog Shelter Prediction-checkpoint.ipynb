{
 "cells": [
  {
   "cell_type": "code",
   "execution_count": 1789,
   "id": "b1794d45-abb9-487b-a16d-ff66579bc8c6",
   "metadata": {},
   "outputs": [],
   "source": [
    "import pandas as pd\n",
    "import matplotlib.pyplot as plt\n",
    "import numpy as np\n",
    "import re\n",
    "import random\n",
    "import catboost\n",
    "from catboost import CatBoostClassifier\n",
    "from sklearn.model_selection import train_test_split"
   ]
  },
  {
   "cell_type": "code",
   "execution_count": 1790,
   "id": "59896331-d067-4dfb-b8b3-22c847a589df",
   "metadata": {},
   "outputs": [],
   "source": [
    "random.seed(24)"
   ]
  },
  {
   "cell_type": "markdown",
   "id": "54dccbef-ca8f-40cb-8a23-5c7e1c09a220",
   "metadata": {},
   "source": [
    "# Dog Shelter Adoption Predictor#"
   ]
  },
  {
   "cell_type": "markdown",
   "id": "db21914f-7959-454c-8719-7a102f7e9650",
   "metadata": {},
   "source": [
    "### Introduction ###\n",
    "\n",
    "Adopting a dog is no simple decision, there are a lot of factors that should be taken into account. Some future owners look for dogs whose lifestyle needs would align with their own. Some need a working group dog to do a job. Some just look for aesthetics. In this project I am trying to find a set of traits, even within mixed breed shelter dogs, that might predict the length of their shelter stay. What makes a dog \"adoptable\"?\n",
    "\n",
    "*If the diagrams don't load, feel free to edit the markdown and uncomment the second diagram line, which uses the local files"
   ]
  },
  {
   "cell_type": "markdown",
   "id": "4fa2120d-bec5-4cf2-92b6-d6502a390064",
   "metadata": {},
   "source": [
    "#### Datasets: ####\n",
    "<ol>\n",
    "    <li><b>Shelter Animal Stays</b> [1] - Intakes and outcomes of animals entering the Austin Animal Center from the beginning of October 2013 to 2018</li>\n",
    "    <li><b>Dog Breeds</b> [2]- Information about 277 breeds and was extracted from the American Kennel Club website</li>\n",
    "\n",
    "</ol>\n",
    "<br>\n",
    "    In the following part I am using the data for shelter animal stay (animal X appears in N rows for each one of its N stays in the shelter) to get a dataset where every row is a unique <b>dog</b> with information about its shelter history."
   ]
  },
  {
   "cell_type": "code",
   "execution_count": 1791,
   "id": "feddf0e7-1019-49d0-b639-bf5d82475298",
   "metadata": {},
   "outputs": [],
   "source": [
    "shelter = pd.read_csv('./data/aac_intakes_outcomes.csv')\n",
    "breeds = pd.read_csv('./data/akc-data-latest.csv')"
   ]
  },
  {
   "cell_type": "markdown",
   "id": "b2aeb166-c351-4b1c-9b8a-9b5b69f7d9bd",
   "metadata": {},
   "source": [
    "<hr/>"
   ]
  },
  {
   "cell_type": "code",
   "execution_count": 1792,
   "id": "1776ec3c-d03d-4349-84d7-6eaa1f2ab1fe",
   "metadata": {},
   "outputs": [],
   "source": [
    "def get_cols_to_remove(regexes_arr, df):\n",
    "    cols_to_remove = []\n",
    "    for regex in regexes_arr:\n",
    "        cols_to_remove += df.filter(regex = regex).columns.tolist()\n",
    "    return cols_to_remove"
   ]
  },
  {
   "cell_type": "markdown",
   "id": "2abe9684-d8d4-4ef6-82de-cb3c771085b9",
   "metadata": {},
   "source": [
    "## 1. Shelter clean-up: ##"
   ]
  },
  {
   "cell_type": "code",
   "execution_count": 1793,
   "id": "b986c1da-0417-4ed6-bf00-922a5ac61326",
   "metadata": {},
   "outputs": [],
   "source": [
    "shelter = shelter.loc[shelter.animal_type == 'Dog'].copy().drop(['animal_type', 'animal_id_outcome'], axis = 1)\n",
    "shelter = shelter.rename(mapper = {'animal_id_intake': 'animal_id'}, axis = 1)"
   ]
  },
  {
   "cell_type": "code",
   "execution_count": 1794,
   "id": "d52cd521-52cf-44fa-b10e-779cd27edd34",
   "metadata": {},
   "outputs": [
    {
     "data": {
      "text/plain": [
       "(45366, 39)"
      ]
     },
     "execution_count": 1794,
     "metadata": {},
     "output_type": "execute_result"
    }
   ],
   "source": [
    "shelter.shape"
   ]
  },
  {
   "cell_type": "code",
   "execution_count": 1795,
   "id": "ecdefeaa-eed8-40bf-a856-8b947e61b931",
   "metadata": {},
   "outputs": [
    {
     "data": {
      "text/html": [
       "<div>\n",
       "<style scoped>\n",
       "    .dataframe tbody tr th:only-of-type {\n",
       "        vertical-align: middle;\n",
       "    }\n",
       "\n",
       "    .dataframe tbody tr th {\n",
       "        vertical-align: top;\n",
       "    }\n",
       "\n",
       "    .dataframe thead th {\n",
       "        text-align: right;\n",
       "    }\n",
       "</style>\n",
       "<table border=\"1\" class=\"dataframe\">\n",
       "  <thead>\n",
       "    <tr style=\"text-align: right;\">\n",
       "      <th></th>\n",
       "      <th>age_upon_outcome</th>\n",
       "      <th>date_of_birth</th>\n",
       "      <th>outcome_subtype</th>\n",
       "      <th>outcome_type</th>\n",
       "      <th>sex_upon_outcome</th>\n",
       "      <th>age_upon_outcome_(days)</th>\n",
       "      <th>age_upon_outcome_(years)</th>\n",
       "      <th>age_upon_outcome_age_group</th>\n",
       "      <th>outcome_datetime</th>\n",
       "      <th>outcome_month</th>\n",
       "      <th>...</th>\n",
       "      <th>age_upon_intake_age_group</th>\n",
       "      <th>intake_datetime</th>\n",
       "      <th>intake_month</th>\n",
       "      <th>intake_year</th>\n",
       "      <th>intake_monthyear</th>\n",
       "      <th>intake_weekday</th>\n",
       "      <th>intake_hour</th>\n",
       "      <th>intake_number</th>\n",
       "      <th>time_in_shelter</th>\n",
       "      <th>time_in_shelter_days</th>\n",
       "    </tr>\n",
       "  </thead>\n",
       "  <tbody>\n",
       "    <tr>\n",
       "      <th>0</th>\n",
       "      <td>10 years</td>\n",
       "      <td>2007-07-09 00:00:00</td>\n",
       "      <td>NaN</td>\n",
       "      <td>Return to Owner</td>\n",
       "      <td>Neutered Male</td>\n",
       "      <td>3650</td>\n",
       "      <td>10.0</td>\n",
       "      <td>(7.5, 10.0]</td>\n",
       "      <td>2017-12-07 14:07:00</td>\n",
       "      <td>12</td>\n",
       "      <td>...</td>\n",
       "      <td>(7.5, 10.0]</td>\n",
       "      <td>2017-12-07 00:00:00</td>\n",
       "      <td>12</td>\n",
       "      <td>2017</td>\n",
       "      <td>2017-12</td>\n",
       "      <td>Thursday</td>\n",
       "      <td>14</td>\n",
       "      <td>1.0</td>\n",
       "      <td>0 days 14:07:00.000000000</td>\n",
       "      <td>0.588194</td>\n",
       "    </tr>\n",
       "    <tr>\n",
       "      <th>1</th>\n",
       "      <td>7 years</td>\n",
       "      <td>2007-07-09 00:00:00</td>\n",
       "      <td>NaN</td>\n",
       "      <td>Return to Owner</td>\n",
       "      <td>Neutered Male</td>\n",
       "      <td>2555</td>\n",
       "      <td>7.0</td>\n",
       "      <td>(5.0, 7.5]</td>\n",
       "      <td>2014-12-20 16:35:00</td>\n",
       "      <td>12</td>\n",
       "      <td>...</td>\n",
       "      <td>(5.0, 7.5]</td>\n",
       "      <td>2014-12-19 10:21:00</td>\n",
       "      <td>12</td>\n",
       "      <td>2014</td>\n",
       "      <td>2014-12</td>\n",
       "      <td>Friday</td>\n",
       "      <td>10</td>\n",
       "      <td>2.0</td>\n",
       "      <td>1 days 06:14:00.000000000</td>\n",
       "      <td>1.259722</td>\n",
       "    </tr>\n",
       "    <tr>\n",
       "      <th>2</th>\n",
       "      <td>6 years</td>\n",
       "      <td>2007-07-09 00:00:00</td>\n",
       "      <td>NaN</td>\n",
       "      <td>Return to Owner</td>\n",
       "      <td>Neutered Male</td>\n",
       "      <td>2190</td>\n",
       "      <td>6.0</td>\n",
       "      <td>(5.0, 7.5]</td>\n",
       "      <td>2014-03-08 17:10:00</td>\n",
       "      <td>3</td>\n",
       "      <td>...</td>\n",
       "      <td>(5.0, 7.5]</td>\n",
       "      <td>2014-03-07 14:26:00</td>\n",
       "      <td>3</td>\n",
       "      <td>2014</td>\n",
       "      <td>2014-03</td>\n",
       "      <td>Friday</td>\n",
       "      <td>14</td>\n",
       "      <td>3.0</td>\n",
       "      <td>1 days 02:44:00.000000000</td>\n",
       "      <td>1.113889</td>\n",
       "    </tr>\n",
       "    <tr>\n",
       "      <th>3</th>\n",
       "      <td>10 years</td>\n",
       "      <td>2004-04-02 00:00:00</td>\n",
       "      <td>Partner</td>\n",
       "      <td>Transfer</td>\n",
       "      <td>Neutered Male</td>\n",
       "      <td>3650</td>\n",
       "      <td>10.0</td>\n",
       "      <td>(7.5, 10.0]</td>\n",
       "      <td>2014-04-07 15:12:00</td>\n",
       "      <td>4</td>\n",
       "      <td>...</td>\n",
       "      <td>(7.5, 10.0]</td>\n",
       "      <td>2014-04-02 15:55:00</td>\n",
       "      <td>4</td>\n",
       "      <td>2014</td>\n",
       "      <td>2014-04</td>\n",
       "      <td>Wednesday</td>\n",
       "      <td>15</td>\n",
       "      <td>1.0</td>\n",
       "      <td>4 days 23:17:00.000000000</td>\n",
       "      <td>4.970139</td>\n",
       "    </tr>\n",
       "    <tr>\n",
       "      <th>4</th>\n",
       "      <td>16 years</td>\n",
       "      <td>1997-10-16 00:00:00</td>\n",
       "      <td>NaN</td>\n",
       "      <td>Return to Owner</td>\n",
       "      <td>Neutered Male</td>\n",
       "      <td>5840</td>\n",
       "      <td>16.0</td>\n",
       "      <td>(15.0, 17.5]</td>\n",
       "      <td>2013-11-16 11:54:00</td>\n",
       "      <td>11</td>\n",
       "      <td>...</td>\n",
       "      <td>(15.0, 17.5]</td>\n",
       "      <td>2013-11-16 09:02:00</td>\n",
       "      <td>11</td>\n",
       "      <td>2013</td>\n",
       "      <td>2013-11</td>\n",
       "      <td>Saturday</td>\n",
       "      <td>9</td>\n",
       "      <td>1.0</td>\n",
       "      <td>0 days 02:52:00.000000000</td>\n",
       "      <td>0.119444</td>\n",
       "    </tr>\n",
       "  </tbody>\n",
       "</table>\n",
       "<p>5 rows × 39 columns</p>\n",
       "</div>"
      ],
      "text/plain": [
       "  age_upon_outcome        date_of_birth outcome_subtype     outcome_type  \\\n",
       "0         10 years  2007-07-09 00:00:00             NaN  Return to Owner   \n",
       "1          7 years  2007-07-09 00:00:00             NaN  Return to Owner   \n",
       "2          6 years  2007-07-09 00:00:00             NaN  Return to Owner   \n",
       "3         10 years  2004-04-02 00:00:00         Partner         Transfer   \n",
       "4         16 years  1997-10-16 00:00:00             NaN  Return to Owner   \n",
       "\n",
       "  sex_upon_outcome  age_upon_outcome_(days)  age_upon_outcome_(years)  \\\n",
       "0    Neutered Male                     3650                      10.0   \n",
       "1    Neutered Male                     2555                       7.0   \n",
       "2    Neutered Male                     2190                       6.0   \n",
       "3    Neutered Male                     3650                      10.0   \n",
       "4    Neutered Male                     5840                      16.0   \n",
       "\n",
       "  age_upon_outcome_age_group     outcome_datetime  outcome_month  ...  \\\n",
       "0                (7.5, 10.0]  2017-12-07 14:07:00             12  ...   \n",
       "1                 (5.0, 7.5]  2014-12-20 16:35:00             12  ...   \n",
       "2                 (5.0, 7.5]  2014-03-08 17:10:00              3  ...   \n",
       "3                (7.5, 10.0]  2014-04-07 15:12:00              4  ...   \n",
       "4               (15.0, 17.5]  2013-11-16 11:54:00             11  ...   \n",
       "\n",
       "   age_upon_intake_age_group      intake_datetime intake_month  intake_year  \\\n",
       "0                (7.5, 10.0]  2017-12-07 00:00:00           12         2017   \n",
       "1                 (5.0, 7.5]  2014-12-19 10:21:00           12         2014   \n",
       "2                 (5.0, 7.5]  2014-03-07 14:26:00            3         2014   \n",
       "3                (7.5, 10.0]  2014-04-02 15:55:00            4         2014   \n",
       "4               (15.0, 17.5]  2013-11-16 09:02:00           11         2013   \n",
       "\n",
       "   intake_monthyear  intake_weekday  intake_hour intake_number  \\\n",
       "0           2017-12        Thursday           14           1.0   \n",
       "1           2014-12          Friday           10           2.0   \n",
       "2           2014-03          Friday           14           3.0   \n",
       "3           2014-04       Wednesday           15           1.0   \n",
       "4           2013-11        Saturday            9           1.0   \n",
       "\n",
       "             time_in_shelter time_in_shelter_days  \n",
       "0  0 days 14:07:00.000000000             0.588194  \n",
       "1  1 days 06:14:00.000000000             1.259722  \n",
       "2  1 days 02:44:00.000000000             1.113889  \n",
       "3  4 days 23:17:00.000000000             4.970139  \n",
       "4  0 days 02:52:00.000000000             0.119444  \n",
       "\n",
       "[5 rows x 39 columns]"
      ]
     },
     "execution_count": 1795,
     "metadata": {},
     "output_type": "execute_result"
    }
   ],
   "source": [
    "shelter.head()"
   ]
  },
  {
   "cell_type": "code",
   "execution_count": 1796,
   "id": "7647d6e6-e6bf-4ac4-987a-b8989d56b52d",
   "metadata": {},
   "outputs": [
    {
     "name": "stdout",
     "output_type": "stream",
     "text": [
      "<class 'pandas.core.frame.DataFrame'>\n",
      "Int64Index: 45366 entries, 0 to 79671\n",
      "Data columns (total 39 columns):\n",
      " #   Column                      Non-Null Count  Dtype  \n",
      "---  ------                      --------------  -----  \n",
      " 0   age_upon_outcome            45366 non-null  object \n",
      " 1   date_of_birth               45366 non-null  object \n",
      " 2   outcome_subtype             13768 non-null  object \n",
      " 3   outcome_type                45364 non-null  object \n",
      " 4   sex_upon_outcome            45365 non-null  object \n",
      " 5   age_upon_outcome_(days)     45366 non-null  int64  \n",
      " 6   age_upon_outcome_(years)    45366 non-null  float64\n",
      " 7   age_upon_outcome_age_group  45366 non-null  object \n",
      " 8   outcome_datetime            45366 non-null  object \n",
      " 9   outcome_month               45366 non-null  int64  \n",
      " 10  outcome_year                45366 non-null  int64  \n",
      " 11  outcome_monthyear           45366 non-null  object \n",
      " 12  outcome_weekday             45366 non-null  object \n",
      " 13  outcome_hour                45366 non-null  int64  \n",
      " 14  outcome_number              45366 non-null  float64\n",
      " 15  dob_year                    45366 non-null  int64  \n",
      " 16  dob_month                   45366 non-null  int64  \n",
      " 17  dob_monthyear               45366 non-null  object \n",
      " 18  age_upon_intake             45366 non-null  object \n",
      " 19  animal_id                   45366 non-null  object \n",
      " 20  breed                       45366 non-null  object \n",
      " 21  color                       45366 non-null  object \n",
      " 22  found_location              45366 non-null  object \n",
      " 23  intake_condition            45366 non-null  object \n",
      " 24  intake_type                 45366 non-null  object \n",
      " 25  sex_upon_intake             45365 non-null  object \n",
      " 26  count                       45366 non-null  int64  \n",
      " 27  age_upon_intake_(days)      45366 non-null  int64  \n",
      " 28  age_upon_intake_(years)     45366 non-null  float64\n",
      " 29  age_upon_intake_age_group   45366 non-null  object \n",
      " 30  intake_datetime             45366 non-null  object \n",
      " 31  intake_month                45366 non-null  int64  \n",
      " 32  intake_year                 45366 non-null  int64  \n",
      " 33  intake_monthyear            45366 non-null  object \n",
      " 34  intake_weekday              45366 non-null  object \n",
      " 35  intake_hour                 45366 non-null  int64  \n",
      " 36  intake_number               45366 non-null  float64\n",
      " 37  time_in_shelter             45366 non-null  object \n",
      " 38  time_in_shelter_days        45366 non-null  float64\n",
      "dtypes: float64(5), int64(11), object(23)\n",
      "memory usage: 13.8+ MB\n"
     ]
    }
   ],
   "source": [
    "shelter.info()"
   ]
  },
  {
   "cell_type": "markdown",
   "id": "fef32ffc-d903-479f-a62a-984ed3e07703",
   "metadata": {},
   "source": [
    "#### Removing duplicate rows and columns: ####"
   ]
  },
  {
   "cell_type": "code",
   "execution_count": 1797,
   "id": "fb2a0cb8-d840-4ea8-9b67-e4f6a74dc6d7",
   "metadata": {},
   "outputs": [
    {
     "data": {
      "text/plain": [
       "24"
      ]
     },
     "execution_count": 1797,
     "metadata": {},
     "output_type": "execute_result"
    }
   ],
   "source": [
    "shelter.loc[shelter.duplicated(keep = False)].sort_values('animal_id').shape[0]"
   ]
  },
  {
   "cell_type": "code",
   "execution_count": 1798,
   "id": "215efed2-b1b1-40f4-bbb4-85955fb69cfe",
   "metadata": {},
   "outputs": [],
   "source": [
    "shelter = shelter.drop_duplicates()"
   ]
  },
  {
   "cell_type": "code",
   "execution_count": 1799,
   "id": "833c955a-6bc7-49e4-8f0a-14d3d86c99b7",
   "metadata": {},
   "outputs": [],
   "source": [
    "useless_cols_re = [r'.*_\\(days\\)|_\\(years\\)$', r'.*_age_group$', r'.*_month|_year|_monthyear|_hour|_days$', r'^age_upon', 'found_location', 'count']\n",
    "cols_to_remove = get_cols_to_remove(useless_cols_re, shelter)\n",
    "shelter = shelter.drop(cols_to_remove, axis = 1)"
   ]
  },
  {
   "cell_type": "markdown",
   "id": "ce1b991e-bf3e-4cac-b8ee-fb2108bca110",
   "metadata": {},
   "source": [
    "#### Double record of same event: ####\n",
    "This dog has once been recorded as a case of 'Owner surrender' and once as 'Public Assist'. Since all the datetime values align, it is safe t say it's a duplicated row."
   ]
  },
  {
   "cell_type": "code",
   "execution_count": 1800,
   "id": "f0b118e4-840d-4372-b6ed-cf32ba22221c",
   "metadata": {},
   "outputs": [
    {
     "data": {
      "text/html": [
       "<div>\n",
       "<style scoped>\n",
       "    .dataframe tbody tr th:only-of-type {\n",
       "        vertical-align: middle;\n",
       "    }\n",
       "\n",
       "    .dataframe tbody tr th {\n",
       "        vertical-align: top;\n",
       "    }\n",
       "\n",
       "    .dataframe thead th {\n",
       "        text-align: right;\n",
       "    }\n",
       "</style>\n",
       "<table border=\"1\" class=\"dataframe\">\n",
       "  <thead>\n",
       "    <tr style=\"text-align: right;\">\n",
       "      <th></th>\n",
       "      <th>date_of_birth</th>\n",
       "      <th>outcome_subtype</th>\n",
       "      <th>outcome_type</th>\n",
       "      <th>sex_upon_outcome</th>\n",
       "      <th>outcome_datetime</th>\n",
       "      <th>outcome_weekday</th>\n",
       "      <th>outcome_number</th>\n",
       "      <th>animal_id</th>\n",
       "      <th>breed</th>\n",
       "      <th>color</th>\n",
       "      <th>intake_condition</th>\n",
       "      <th>intake_type</th>\n",
       "      <th>sex_upon_intake</th>\n",
       "      <th>intake_datetime</th>\n",
       "      <th>intake_weekday</th>\n",
       "      <th>intake_number</th>\n",
       "      <th>time_in_shelter</th>\n",
       "    </tr>\n",
       "  </thead>\n",
       "  <tbody>\n",
       "    <tr>\n",
       "      <th>10129</th>\n",
       "      <td>2011-02-17 00:00:00</td>\n",
       "      <td>Aggressive</td>\n",
       "      <td>Euthanasia</td>\n",
       "      <td>Intact Male</td>\n",
       "      <td>2014-04-17 17:09:00</td>\n",
       "      <td>Thursday</td>\n",
       "      <td>1.0</td>\n",
       "      <td>A672744</td>\n",
       "      <td>Rottweiler Mix</td>\n",
       "      <td>Black/Tan</td>\n",
       "      <td>Normal</td>\n",
       "      <td>Public Assist</td>\n",
       "      <td>Intact Male</td>\n",
       "      <td>2014-02-17 17:10:00</td>\n",
       "      <td>Monday</td>\n",
       "      <td>1.0</td>\n",
       "      <td>58 days 23:59:00.000000000</td>\n",
       "    </tr>\n",
       "    <tr>\n",
       "      <th>10130</th>\n",
       "      <td>2011-02-17 00:00:00</td>\n",
       "      <td>Aggressive</td>\n",
       "      <td>Euthanasia</td>\n",
       "      <td>Intact Male</td>\n",
       "      <td>2014-04-17 17:09:00</td>\n",
       "      <td>Thursday</td>\n",
       "      <td>1.0</td>\n",
       "      <td>A672744</td>\n",
       "      <td>Rottweiler Mix</td>\n",
       "      <td>Black/Tan</td>\n",
       "      <td>Normal</td>\n",
       "      <td>Owner Surrender</td>\n",
       "      <td>Intact Male</td>\n",
       "      <td>2014-02-17 17:10:00</td>\n",
       "      <td>Monday</td>\n",
       "      <td>1.0</td>\n",
       "      <td>58 days 23:59:00.000000000</td>\n",
       "    </tr>\n",
       "  </tbody>\n",
       "</table>\n",
       "</div>"
      ],
      "text/plain": [
       "             date_of_birth outcome_subtype outcome_type sex_upon_outcome  \\\n",
       "10129  2011-02-17 00:00:00      Aggressive   Euthanasia      Intact Male   \n",
       "10130  2011-02-17 00:00:00      Aggressive   Euthanasia      Intact Male   \n",
       "\n",
       "          outcome_datetime outcome_weekday  outcome_number animal_id  \\\n",
       "10129  2014-04-17 17:09:00        Thursday             1.0   A672744   \n",
       "10130  2014-04-17 17:09:00        Thursday             1.0   A672744   \n",
       "\n",
       "                breed      color intake_condition      intake_type  \\\n",
       "10129  Rottweiler Mix  Black/Tan           Normal    Public Assist   \n",
       "10130  Rottweiler Mix  Black/Tan           Normal  Owner Surrender   \n",
       "\n",
       "      sex_upon_intake      intake_datetime intake_weekday  intake_number  \\\n",
       "10129     Intact Male  2014-02-17 17:10:00         Monday            1.0   \n",
       "10130     Intact Male  2014-02-17 17:10:00         Monday            1.0   \n",
       "\n",
       "                  time_in_shelter  \n",
       "10129  58 days 23:59:00.000000000  \n",
       "10130  58 days 23:59:00.000000000  "
      ]
     },
     "execution_count": 1800,
     "metadata": {},
     "output_type": "execute_result"
    }
   ],
   "source": [
    "shelter.loc[shelter.duplicated(['animal_id', 'intake_number', 'outcome_number'], keep = False)]"
   ]
  },
  {
   "cell_type": "code",
   "execution_count": 1801,
   "id": "cc8aeae0-5df4-45c6-a40c-8f3acb750f16",
   "metadata": {},
   "outputs": [],
   "source": [
    "shelter = shelter.drop_duplicates(['animal_id', 'intake_number', 'outcome_number'])"
   ]
  },
  {
   "cell_type": "markdown",
   "id": "f7e58397-44fb-4ea7-bcfd-e92d78ef22d5",
   "metadata": {},
   "source": [
    "### Datatypes: ###\n",
    "#### Datetime columns: ####"
   ]
  },
  {
   "cell_type": "code",
   "execution_count": 1802,
   "id": "45d60a38-4bc3-4b9e-8a81-6436243c992b",
   "metadata": {},
   "outputs": [],
   "source": [
    "dt_col_regex = r'^date_|_datetime$'\n",
    "\n",
    "cols_to_dt = shelter.filter(regex = dt_col_regex).columns\n",
    "for col in cols_to_dt:\n",
    "    shelter[col] = pd.to_datetime(shelter[col])"
   ]
  },
  {
   "cell_type": "markdown",
   "id": "fae128cb-36bb-4273-b966-7ed6b85d3a8f",
   "metadata": {},
   "source": [
    "#### Timedelta column: ####\n",
    "Redundant data but will be useful for calculations"
   ]
  },
  {
   "cell_type": "code",
   "execution_count": 1803,
   "id": "08aa8ca9-9c3d-497d-9118-495658ecdddc",
   "metadata": {},
   "outputs": [],
   "source": [
    "shelter['time_in_shelter'] = shelter['outcome_datetime'] - shelter['intake_datetime']"
   ]
  },
  {
   "cell_type": "markdown",
   "id": "dc46d667-d332-49b1-ba20-7c8962834fad",
   "metadata": {},
   "source": [
    "#### Categorical columns: ####"
   ]
  },
  {
   "cell_type": "code",
   "execution_count": 1804,
   "id": "917cad0c-23a1-4205-a539-5710812e1ca9",
   "metadata": {},
   "outputs": [],
   "source": [
    "categorical_regex = r'_type$|_subtype$|_weekday$|breed$'\n",
    "categorical_cols = shelter.filter(regex = categorical_regex)\n",
    "\n",
    "for col in categorical_cols:\n",
    "    shelter[col] = shelter[col].astype('category')"
   ]
  },
  {
   "cell_type": "markdown",
   "id": "5adca558-56aa-44d8-8f12-0837d8ca50b4",
   "metadata": {},
   "source": [
    "### Checking for broken rows: ###\n",
    "Checking for logical inconsistencies with the dates"
   ]
  },
  {
   "cell_type": "code",
   "execution_count": 1805,
   "id": "a8926ce2-6ca2-4400-b23e-9536980e601f",
   "metadata": {},
   "outputs": [
    {
     "name": "stdout",
     "output_type": "stream",
     "text": [
      "0\n",
      "39\n",
      "2\n"
     ]
    }
   ],
   "source": [
    "print (shelter.loc[shelter.intake_datetime > shelter.outcome_datetime].shape[0])\n",
    "print (shelter.loc[shelter.date_of_birth > shelter.intake_datetime].shape[0])\n",
    "print (shelter.loc[shelter.date_of_birth > shelter.outcome_datetime].shape[0])"
   ]
  },
  {
   "cell_type": "markdown",
   "id": "ded9348a-88f7-4752-8404-579cd2a6c97f",
   "metadata": {},
   "source": [
    "<b> Why I decided to keep the intake date as date of birth: </b><br>\n",
    "At fist I assumed these were the puppies born in the shelter but after further investigation not all of them were in 'Nursing state' and also there were some, whose date of birth was even later than their outcome date. <u>Date of birth is expected to be a value that is estimated by the shelter staff.</u> so for those cases, I will use intake date as date of birth. The mean of discrepancies is low so I don't expect this to have a big impact on the results."
   ]
  },
  {
   "cell_type": "code",
   "execution_count": 1806,
   "id": "bf197226-3e82-427d-b6bf-1eefce47f7b4",
   "metadata": {},
   "outputs": [
    {
     "data": {
      "text/plain": [
       "Timedelta('9 days 14:22:13.846153846')"
      ]
     },
     "execution_count": 1806,
     "metadata": {},
     "output_type": "execute_result"
    }
   ],
   "source": [
    "shelter_time_discrepanies = shelter.loc[(shelter.date_of_birth > shelter.intake_datetime)]\n",
    "time_discrepanies = shelter_time_discrepanies.apply(lambda x: x.date_of_birth - x.intake_datetime, axis = 1)\n",
    "time_discrepanies.mean()"
   ]
  },
  {
   "cell_type": "code",
   "execution_count": 1807,
   "id": "1ebf2bd7-bbfe-43bb-814f-e93525713a22",
   "metadata": {},
   "outputs": [],
   "source": [
    "def fix_date_of_birth(row):\n",
    "    \"\"\" \n",
    "        Fix rows claiming that the animal was born after\n",
    "        it was taken in\n",
    "    \"\"\"\n",
    "    if row.date_of_birth > row.intake_datetime: \n",
    "        return row.intake_datetime\n",
    "    return row.date_of_birth"
   ]
  },
  {
   "cell_type": "code",
   "execution_count": 1808,
   "id": "39c01b98-ad57-48f9-92c1-d1da8bb6cd3d",
   "metadata": {},
   "outputs": [],
   "source": [
    "shelter['fixed_date_of_birth'] = shelter.apply(fix_date_of_birth, axis = 1)"
   ]
  },
  {
   "cell_type": "code",
   "execution_count": 1809,
   "id": "05d41edc-6600-4676-8eff-82ca3cf9cb66",
   "metadata": {},
   "outputs": [
    {
     "name": "stdout",
     "output_type": "stream",
     "text": [
      "0\n",
      "0\n"
     ]
    }
   ],
   "source": [
    "print (shelter.loc[shelter.fixed_date_of_birth > shelter.intake_datetime].shape[0])\n",
    "print (shelter.loc[shelter.fixed_date_of_birth > shelter.outcome_datetime].shape[0])"
   ]
  },
  {
   "cell_type": "code",
   "execution_count": 1810,
   "id": "802e87b4-a38b-49d6-b681-3e4e8251ae51",
   "metadata": {},
   "outputs": [],
   "source": [
    "shelter['date_of_birth'] = shelter['fixed_date_of_birth']\n",
    "shelter = shelter.drop('fixed_date_of_birth', axis = 1)"
   ]
  },
  {
   "cell_type": "markdown",
   "id": "664ebc9d-8c21-4973-8f05-80fde263319b",
   "metadata": {},
   "source": [
    "### Adding age_intake column: ###"
   ]
  },
  {
   "cell_type": "code",
   "execution_count": 1811,
   "id": "56b6b62e-4797-4b9b-a8d0-2583302524be",
   "metadata": {},
   "outputs": [],
   "source": [
    "def get_age(dob, to_time):\n",
    "    return round((to_time - dob).dt.days / 365.25)"
   ]
  },
  {
   "cell_type": "code",
   "execution_count": 1812,
   "id": "b2244a9f-8bd7-40a5-a2fb-1a47d6413ac0",
   "metadata": {},
   "outputs": [],
   "source": [
    "shelter['age_intake'] = get_age(shelter.date_of_birth, shelter.intake_datetime)"
   ]
  },
  {
   "cell_type": "markdown",
   "id": "dc9c9fc3-5c9a-446e-b068-bdb43f0feeb8",
   "metadata": {},
   "source": [
    "## Calculating total shelter stay: ##\n",
    "In this dataset, one row represents one shelter stay (PK is compound: animal_id and intake_datetime). A dog can get adopted, then left at the shleter again and so on and each of those stays is recorded as a row. My goal requires a dataset where every row is a unique dog (PK is animal_id). To achieve that I must, for every dog:\n",
    "<ol>\n",
    "    <li>Take the <b>first intake</b> data - I am interested in when was the first time the dog got in the shelter</li>\n",
    "    <li>Take the <b>last outcome</b> data - I am interested in the last outcome - what's the dog's status now.</li>\n",
    "    <li><b>Sum the time in shelter for each stay</b> - This will give me the total shelter time between the first intake and the last outcome <b>without the gaps</b> in between stays</li>\n",
    "</ol>\n",
    "\n",
    "![From shelter stays to dogs](https://i.ibb.co/7Ny0pDW/Diagram1-m.png)\n",
    "<!-- ![From shelter stays to dogs](./Diagram1_m.png) -->\n",
    "\n",
    "#### Step 1: Separate intakes from outcomes ####\n",
    "I separate the dataset into two with only their relevant columns. The 'common' columns like 'date_of_birth' will go to the intakes."
   ]
  },
  {
   "cell_type": "code",
   "execution_count": 1813,
   "id": "3e24b004-b7dc-46ee-8ddf-c16b677507de",
   "metadata": {},
   "outputs": [
    {
     "data": {
      "text/html": [
       "<div>\n",
       "<style scoped>\n",
       "    .dataframe tbody tr th:only-of-type {\n",
       "        vertical-align: middle;\n",
       "    }\n",
       "\n",
       "    .dataframe tbody tr th {\n",
       "        vertical-align: top;\n",
       "    }\n",
       "\n",
       "    .dataframe thead th {\n",
       "        text-align: right;\n",
       "    }\n",
       "</style>\n",
       "<table border=\"1\" class=\"dataframe\">\n",
       "  <thead>\n",
       "    <tr style=\"text-align: right;\">\n",
       "      <th></th>\n",
       "      <th>date_of_birth</th>\n",
       "      <th>outcome_subtype</th>\n",
       "      <th>outcome_type</th>\n",
       "      <th>sex_upon_outcome</th>\n",
       "      <th>outcome_datetime</th>\n",
       "      <th>outcome_weekday</th>\n",
       "      <th>outcome_number</th>\n",
       "      <th>animal_id</th>\n",
       "      <th>breed</th>\n",
       "      <th>color</th>\n",
       "      <th>intake_condition</th>\n",
       "      <th>intake_type</th>\n",
       "      <th>sex_upon_intake</th>\n",
       "      <th>intake_datetime</th>\n",
       "      <th>intake_weekday</th>\n",
       "      <th>intake_number</th>\n",
       "      <th>time_in_shelter</th>\n",
       "      <th>age_intake</th>\n",
       "    </tr>\n",
       "  </thead>\n",
       "  <tbody>\n",
       "  </tbody>\n",
       "</table>\n",
       "</div>"
      ],
      "text/plain": [
       "Empty DataFrame\n",
       "Columns: [date_of_birth, outcome_subtype, outcome_type, sex_upon_outcome, outcome_datetime, outcome_weekday, outcome_number, animal_id, breed, color, intake_condition, intake_type, sex_upon_intake, intake_datetime, intake_weekday, intake_number, time_in_shelter, age_intake]\n",
       "Index: []"
      ]
     },
     "execution_count": 1813,
     "metadata": {},
     "output_type": "execute_result"
    }
   ],
   "source": [
    "shelter.loc[shelter.intake_number != shelter.outcome_number]"
   ]
  },
  {
   "cell_type": "code",
   "execution_count": 1814,
   "id": "0acd4db1-8b0b-4b4d-8abd-fbf18bceff0c",
   "metadata": {},
   "outputs": [],
   "source": [
    "intakes = shelter[[\n",
    "    'animal_id', \n",
    "    'date_of_birth', \n",
    "    'breed',\n",
    "    'intake_type', \n",
    "    'intake_condition', \n",
    "    'age_intake',\n",
    "    'intake_datetime', \n",
    "    'intake_weekday',\n",
    "    'intake_number',\n",
    "    'sex_upon_intake',\n",
    "    'color'\n",
    "    # this column won't make sense anymore\n",
    "    # 'time_in_shelter'\n",
    "]].copy()"
   ]
  },
  {
   "cell_type": "code",
   "execution_count": 1815,
   "id": "bbdf8576-91b6-4324-9c55-d1927e557c56",
   "metadata": {},
   "outputs": [],
   "source": [
    "outcomes = shelter[[\n",
    "    'animal_id',\n",
    "    'outcome_subtype',\n",
    "    'outcome_type',\n",
    "    'outcome_datetime',\n",
    "    'outcome_weekday', \n",
    "    'outcome_number']].copy()"
   ]
  },
  {
   "cell_type": "code",
   "execution_count": 1816,
   "id": "4ab797f9-8853-4014-9236-e86ccca00875",
   "metadata": {},
   "outputs": [
    {
     "name": "stdout",
     "output_type": "stream",
     "text": [
      "0\n",
      "0\n"
     ]
    }
   ],
   "source": [
    "print (intakes.duplicated().sum())\n",
    "print (outcomes.duplicated().sum())"
   ]
  },
  {
   "cell_type": "markdown",
   "id": "9c52505f-80e0-46ae-8e0f-fc545de03ea3",
   "metadata": {},
   "source": [
    "####  Step 2: Taking first instake and last outcome: ####"
   ]
  },
  {
   "cell_type": "code",
   "execution_count": 1817,
   "id": "95cf4c5c-b9de-4260-b2f2-139e30983f5b",
   "metadata": {},
   "outputs": [],
   "source": [
    "intakes = intakes.sort_values('intake_number')\n",
    "first_intakes = intakes.drop_duplicates('animal_id')"
   ]
  },
  {
   "cell_type": "code",
   "execution_count": 1818,
   "id": "a1dc6529-2f3e-42f3-a76b-a579faa407d9",
   "metadata": {},
   "outputs": [],
   "source": [
    "outcomes = outcomes.sort_values('outcome_number')\n",
    "last_outcomes = outcomes.drop_duplicates('animal_id', keep = 'last')"
   ]
  },
  {
   "cell_type": "markdown",
   "id": "dc014942-1f6a-4e7d-b314-3e793d799fc6",
   "metadata": {},
   "source": [
    "#### Step 3: Merging first intakes and last outcomes: ####\n",
    "This gives me a dataset where each row is a unique dog along with its simplified shelter history."
   ]
  },
  {
   "cell_type": "code",
   "execution_count": 1819,
   "id": "5750349e-46a1-40c0-91aa-e42ef9695f57",
   "metadata": {},
   "outputs": [],
   "source": [
    "dogs = pd.merge(first_intakes, last_outcomes, how = 'inner', on = 'animal_id')"
   ]
  },
  {
   "cell_type": "markdown",
   "id": "adf2f46b-e638-478c-9bc7-1f2020b0d8c0",
   "metadata": {},
   "source": [
    "#### Step 4: Calculating total shelter time: ####\n",
    "<b>Back in the shelters dataset</b>, I sum up the shelter time for every dog. That gives me a series with the animal_ids as index and their total shelter time as values. Then I join it with dogs dataset by animal id to get their total shelter stay (without the gaps)"
   ]
  },
  {
   "cell_type": "code",
   "execution_count": 1820,
   "id": "6848c842-cb9a-4007-8a17-89f3fd9d3b41",
   "metadata": {},
   "outputs": [],
   "source": [
    "animals_total_time = shelter.groupby('animal_id')['time_in_shelter'].sum()\n",
    "animals_total_time.name = 'total_time_in_shelter'"
   ]
  },
  {
   "cell_type": "code",
   "execution_count": 1821,
   "id": "e136c49a-52ca-4a31-9529-181caeb57004",
   "metadata": {},
   "outputs": [],
   "source": [
    "dogs = pd.merge(dogs, animals_total_time, on = 'animal_id')"
   ]
  },
  {
   "cell_type": "markdown",
   "id": "a98f6473-c9d1-4c9a-972e-7c88bc9ad21f",
   "metadata": {},
   "source": [
    "#### Dropping unnecessary cols: ####\n",
    "Just leaving the number of stays for now, not sure if i'll need it"
   ]
  },
  {
   "cell_type": "code",
   "execution_count": 1822,
   "id": "d66b369c-8ad7-4eb2-80cf-6e2d228681ef",
   "metadata": {},
   "outputs": [],
   "source": [
    "dogs = dogs.rename(mapper = {'outcome_number': 'stays_count'}, axis = 1)\n",
    "dogs = dogs.drop('intake_number', axis = 1)"
   ]
  },
  {
   "cell_type": "markdown",
   "id": "0986c636-4fda-4907-8d1c-6f5082a5e500",
   "metadata": {},
   "source": [
    "<hr>"
   ]
  },
  {
   "cell_type": "markdown",
   "id": "ab92077a-dfc8-426c-9d74-e22bd8126f50",
   "metadata": {},
   "source": [
    "## 2. Breeds clean-up ##\n",
    "\n",
    "This is the registered dog breed dataset from the American Kennel Club."
   ]
  },
  {
   "cell_type": "code",
   "execution_count": 1823,
   "id": "4f4cd471-e661-4482-b05d-fcc8913198e1",
   "metadata": {},
   "outputs": [
    {
     "data": {
      "text/html": [
       "<div>\n",
       "<style scoped>\n",
       "    .dataframe tbody tr th:only-of-type {\n",
       "        vertical-align: middle;\n",
       "    }\n",
       "\n",
       "    .dataframe tbody tr th {\n",
       "        vertical-align: top;\n",
       "    }\n",
       "\n",
       "    .dataframe thead th {\n",
       "        text-align: right;\n",
       "    }\n",
       "</style>\n",
       "<table border=\"1\" class=\"dataframe\">\n",
       "  <thead>\n",
       "    <tr style=\"text-align: right;\">\n",
       "      <th></th>\n",
       "      <th>Unnamed: 0</th>\n",
       "      <th>description</th>\n",
       "      <th>temperament</th>\n",
       "      <th>popularity</th>\n",
       "      <th>min_height</th>\n",
       "      <th>max_height</th>\n",
       "      <th>min_weight</th>\n",
       "      <th>max_weight</th>\n",
       "      <th>min_expectancy</th>\n",
       "      <th>max_expectancy</th>\n",
       "      <th>...</th>\n",
       "      <th>grooming_frequency_value</th>\n",
       "      <th>grooming_frequency_category</th>\n",
       "      <th>shedding_value</th>\n",
       "      <th>shedding_category</th>\n",
       "      <th>energy_level_value</th>\n",
       "      <th>energy_level_category</th>\n",
       "      <th>trainability_value</th>\n",
       "      <th>trainability_category</th>\n",
       "      <th>demeanor_value</th>\n",
       "      <th>demeanor_category</th>\n",
       "    </tr>\n",
       "  </thead>\n",
       "  <tbody>\n",
       "    <tr>\n",
       "      <th>0</th>\n",
       "      <td>Affenpinscher</td>\n",
       "      <td>The Affen’s apish look has been described many...</td>\n",
       "      <td>Confident, Famously Funny, Fearless</td>\n",
       "      <td>148</td>\n",
       "      <td>22.86</td>\n",
       "      <td>29.21</td>\n",
       "      <td>3.175147</td>\n",
       "      <td>4.535924</td>\n",
       "      <td>12.0</td>\n",
       "      <td>15.0</td>\n",
       "      <td>...</td>\n",
       "      <td>0.6</td>\n",
       "      <td>2-3 Times a Week Brushing</td>\n",
       "      <td>0.6</td>\n",
       "      <td>Seasonal</td>\n",
       "      <td>0.6</td>\n",
       "      <td>Regular Exercise</td>\n",
       "      <td>0.8</td>\n",
       "      <td>Easy Training</td>\n",
       "      <td>1.0</td>\n",
       "      <td>Outgoing</td>\n",
       "    </tr>\n",
       "    <tr>\n",
       "      <th>1</th>\n",
       "      <td>Afghan Hound</td>\n",
       "      <td>The Afghan Hound is an ancient breed, his whol...</td>\n",
       "      <td>Dignified, Profoundly Loyal, Aristocratic</td>\n",
       "      <td>113</td>\n",
       "      <td>63.50</td>\n",
       "      <td>68.58</td>\n",
       "      <td>22.679619</td>\n",
       "      <td>27.215542</td>\n",
       "      <td>12.0</td>\n",
       "      <td>15.0</td>\n",
       "      <td>...</td>\n",
       "      <td>0.8</td>\n",
       "      <td>Daily Brushing</td>\n",
       "      <td>0.2</td>\n",
       "      <td>Infrequent</td>\n",
       "      <td>0.8</td>\n",
       "      <td>Energetic</td>\n",
       "      <td>0.2</td>\n",
       "      <td>May be Stubborn</td>\n",
       "      <td>0.2</td>\n",
       "      <td>Aloof/Wary</td>\n",
       "    </tr>\n",
       "    <tr>\n",
       "      <th>2</th>\n",
       "      <td>Airedale Terrier</td>\n",
       "      <td>The Airedale Terrier is the largest of all ter...</td>\n",
       "      <td>Friendly, Clever, Courageous</td>\n",
       "      <td>60</td>\n",
       "      <td>58.42</td>\n",
       "      <td>58.42</td>\n",
       "      <td>22.679619</td>\n",
       "      <td>31.751466</td>\n",
       "      <td>11.0</td>\n",
       "      <td>14.0</td>\n",
       "      <td>...</td>\n",
       "      <td>0.6</td>\n",
       "      <td>2-3 Times a Week Brushing</td>\n",
       "      <td>0.4</td>\n",
       "      <td>Occasional</td>\n",
       "      <td>0.6</td>\n",
       "      <td>Regular Exercise</td>\n",
       "      <td>1.0</td>\n",
       "      <td>Eager to Please</td>\n",
       "      <td>0.8</td>\n",
       "      <td>Friendly</td>\n",
       "    </tr>\n",
       "  </tbody>\n",
       "</table>\n",
       "<p>3 rows × 21 columns</p>\n",
       "</div>"
      ],
      "text/plain": [
       "         Unnamed: 0                                        description  \\\n",
       "0     Affenpinscher  The Affen’s apish look has been described many...   \n",
       "1      Afghan Hound  The Afghan Hound is an ancient breed, his whol...   \n",
       "2  Airedale Terrier  The Airedale Terrier is the largest of all ter...   \n",
       "\n",
       "                                 temperament popularity  min_height  \\\n",
       "0        Confident, Famously Funny, Fearless        148       22.86   \n",
       "1  Dignified, Profoundly Loyal, Aristocratic        113       63.50   \n",
       "2               Friendly, Clever, Courageous         60       58.42   \n",
       "\n",
       "   max_height  min_weight  max_weight  min_expectancy  max_expectancy  ...  \\\n",
       "0       29.21    3.175147    4.535924            12.0            15.0  ...   \n",
       "1       68.58   22.679619   27.215542            12.0            15.0  ...   \n",
       "2       58.42   22.679619   31.751466            11.0            14.0  ...   \n",
       "\n",
       "  grooming_frequency_value  grooming_frequency_category shedding_value  \\\n",
       "0                      0.6    2-3 Times a Week Brushing            0.6   \n",
       "1                      0.8               Daily Brushing            0.2   \n",
       "2                      0.6    2-3 Times a Week Brushing            0.4   \n",
       "\n",
       "   shedding_category energy_level_value  energy_level_category  \\\n",
       "0           Seasonal                0.6       Regular Exercise   \n",
       "1         Infrequent                0.8              Energetic   \n",
       "2         Occasional                0.6       Regular Exercise   \n",
       "\n",
       "  trainability_value  trainability_category demeanor_value  demeanor_category  \n",
       "0                0.8          Easy Training            1.0           Outgoing  \n",
       "1                0.2        May be Stubborn            0.2         Aloof/Wary  \n",
       "2                1.0        Eager to Please            0.8           Friendly  \n",
       "\n",
       "[3 rows x 21 columns]"
      ]
     },
     "execution_count": 1823,
     "metadata": {},
     "output_type": "execute_result"
    }
   ],
   "source": [
    "breeds.head(3)"
   ]
  },
  {
   "cell_type": "code",
   "execution_count": 1824,
   "id": "54ad99f2-7aa1-48d8-8430-e7078a8ddea1",
   "metadata": {},
   "outputs": [
    {
     "name": "stdout",
     "output_type": "stream",
     "text": [
      "<class 'pandas.core.frame.DataFrame'>\n",
      "RangeIndex: 277 entries, 0 to 276\n",
      "Data columns (total 21 columns):\n",
      " #   Column                       Non-Null Count  Dtype  \n",
      "---  ------                       --------------  -----  \n",
      " 0   Unnamed: 0                   277 non-null    object \n",
      " 1   description                  277 non-null    object \n",
      " 2   temperament                  276 non-null    object \n",
      " 3   popularity                   198 non-null    object \n",
      " 4   min_height                   277 non-null    float64\n",
      " 5   max_height                   277 non-null    float64\n",
      " 6   min_weight                   275 non-null    float64\n",
      " 7   max_weight                   275 non-null    float64\n",
      " 8   min_expectancy               274 non-null    float64\n",
      " 9   max_expectancy               274 non-null    float64\n",
      " 10  group                        277 non-null    object \n",
      " 11  grooming_frequency_value     270 non-null    float64\n",
      " 12  grooming_frequency_category  270 non-null    object \n",
      " 13  shedding_value               257 non-null    float64\n",
      " 14  shedding_category            257 non-null    object \n",
      " 15  energy_level_value           271 non-null    float64\n",
      " 16  energy_level_category        271 non-null    object \n",
      " 17  trainability_value           253 non-null    float64\n",
      " 18  trainability_category        253 non-null    object \n",
      " 19  demeanor_value               252 non-null    float64\n",
      " 20  demeanor_category            252 non-null    object \n",
      "dtypes: float64(11), object(10)\n",
      "memory usage: 45.6+ KB\n"
     ]
    }
   ],
   "source": [
    "breeds.info()"
   ]
  },
  {
   "cell_type": "markdown",
   "id": "6ba8d1fe-4f02-4c99-bdda-274423808e2f",
   "metadata": {},
   "source": [
    "#### Column clean-up: ####"
   ]
  },
  {
   "cell_type": "code",
   "execution_count": 1825,
   "id": "19f91490-d275-4db5-b435-79f2129fead7",
   "metadata": {},
   "outputs": [],
   "source": [
    "breeds = breeds.rename(mapper = {'Unnamed: 0': 'breed'}, axis = 1)"
   ]
  },
  {
   "cell_type": "code",
   "execution_count": 1826,
   "id": "a3ac4a6b-3460-43b3-88d1-204611b4e40a",
   "metadata": {},
   "outputs": [],
   "source": [
    "breeds['group'] = breeds['group'].astype('category')"
   ]
  },
  {
   "cell_type": "code",
   "execution_count": 1827,
   "id": "5550cc96-7930-4a32-a9a8-cfad9cf614b2",
   "metadata": {},
   "outputs": [],
   "source": [
    "useless_cols_re = [r'popularity', r'_category$']\n",
    "cols_to_remove = get_cols_to_remove(useless_cols_re, breeds)\n",
    "breeds = breeds.drop(columns = cols_to_remove, axis = 1)"
   ]
  },
  {
   "cell_type": "markdown",
   "id": "29fbc765-0d13-4462-b178-3dae7363532c",
   "metadata": {},
   "source": [
    "#### Checking for duplicates: ####"
   ]
  },
  {
   "cell_type": "code",
   "execution_count": 1828,
   "id": "abd23b03-65fb-4978-abb6-f9f31caf2323",
   "metadata": {},
   "outputs": [
    {
     "name": "stdout",
     "output_type": "stream",
     "text": [
      "0\n",
      "0\n"
     ]
    }
   ],
   "source": [
    "print (breeds.duplicated().sum())\n",
    "print (breeds.duplicated('breed').sum())"
   ]
  },
  {
   "cell_type": "markdown",
   "id": "9bd21ed9-fa97-43be-902a-7b139cd3df57",
   "metadata": {},
   "source": [
    "## 3. Shelter: One row per breed mix part: ##\n",
    "Stray dogs are not expected to be of a pure breed. The values in the breed column often contain the word 'Mix' or have 1 or 2 breeds mentioned. I assume the breeds are given by the staff based off of an estimation of appearance, weight, demeanor etc. So while breed itself might not be very accurate, I assume that the size and demeanor related to it will be.<br/>\n",
    "\n",
    "Before I merge shelter and breeds, I must:\n",
    "<ol>\n",
    "    <li><b>Explode the breed column</b>. This will give me one row for every breed that a dog has traits of. (PK is animal_id and breed)</li>\n",
    "    <li>Find all <b>unmatched breeds</b></li>\n",
    "    <li>Take care of them</li>\n",
    "</ol>\n",
    "\n",
    "![Mixed breeds](https://i.ibb.co/3hQ9Qjr/Diagram2-m.png)\n",
    "<!-- ![Mixed breeds](./Diagram2_m.png) -->"
   ]
  },
  {
   "cell_type": "markdown",
   "id": "bbbde3ac-2055-4fab-9060-86534e83c5a0",
   "metadata": {},
   "source": [
    "\n",
    "\n",
    "The word 'Mix' carries information, however, not information that I can do anything with at the moment. I assume the value will be more useful without it because it can be matched to a breed."
   ]
  },
  {
   "cell_type": "code",
   "execution_count": 1829,
   "id": "ce2efd2a-894e-4937-80e2-6d001858356b",
   "metadata": {},
   "outputs": [],
   "source": [
    "dogs['breed'] = dogs['breed'].apply(lambda breed: re.sub('Mix', '', breed))"
   ]
  },
  {
   "cell_type": "markdown",
   "id": "33cb709e-9012-42bb-bcba-4d3348a292dd",
   "metadata": {},
   "source": [
    "Black/Tan Hound becomes Black and Tan Coohhound to remove instances of '/' not separating two breed mixes:\n"
   ]
  },
  {
   "cell_type": "code",
   "execution_count": 1830,
   "id": "3386e23a-ab3c-41a5-908e-3f5b01ac31b9",
   "metadata": {},
   "outputs": [],
   "source": [
    "dogs['breed'] = dogs['breed'].apply(lambda breed: re.sub('Black/Tan Hound', 'Black and Tan Coonhound', breed))"
   ]
  },
  {
   "cell_type": "markdown",
   "id": "52d94c3c-9a71-4da6-94c5-43546a7505ca",
   "metadata": {},
   "source": [
    "#### Step 1: Explode breed column: ####\n",
    "For the sake of a smooth merge, I will need a row for every breed that a dog has 'mixed in'. That means that one animal_id will appear twice if it is a mix between two breeds."
   ]
  },
  {
   "cell_type": "code",
   "execution_count": 1831,
   "id": "dc076548-2296-4706-82b9-b6fe74b773dc",
   "metadata": {},
   "outputs": [
    {
     "data": {
      "text/plain": [
       "(38909, 16)"
      ]
     },
     "execution_count": 1831,
     "metadata": {},
     "output_type": "execute_result"
    }
   ],
   "source": [
    "dogs_mixes = dogs.copy()\n",
    "dogs_mixes['breed'] = dogs_mixes['breed'].str.split('/')\n",
    "dogs_mixes.shape"
   ]
  },
  {
   "cell_type": "code",
   "execution_count": 1832,
   "id": "4dd73bb7-c6f0-4c6a-80b5-10442eee55f1",
   "metadata": {},
   "outputs": [],
   "source": [
    "dogs_mixes = dogs_mixes.explode(column = 'breed')"
   ]
  },
  {
   "cell_type": "code",
   "execution_count": 1833,
   "id": "4f33b219-6f22-4775-b692-bd5aff90d747",
   "metadata": {},
   "outputs": [
    {
     "data": {
      "text/html": [
       "<div>\n",
       "<style scoped>\n",
       "    .dataframe tbody tr th:only-of-type {\n",
       "        vertical-align: middle;\n",
       "    }\n",
       "\n",
       "    .dataframe tbody tr th {\n",
       "        vertical-align: top;\n",
       "    }\n",
       "\n",
       "    .dataframe thead th {\n",
       "        text-align: right;\n",
       "    }\n",
       "</style>\n",
       "<table border=\"1\" class=\"dataframe\">\n",
       "  <thead>\n",
       "    <tr style=\"text-align: right;\">\n",
       "      <th></th>\n",
       "      <th>animal_id</th>\n",
       "      <th>date_of_birth</th>\n",
       "      <th>breed</th>\n",
       "      <th>intake_type</th>\n",
       "      <th>intake_condition</th>\n",
       "      <th>age_intake</th>\n",
       "      <th>intake_datetime</th>\n",
       "      <th>intake_weekday</th>\n",
       "      <th>sex_upon_intake</th>\n",
       "      <th>color</th>\n",
       "      <th>outcome_subtype</th>\n",
       "      <th>outcome_type</th>\n",
       "      <th>outcome_datetime</th>\n",
       "      <th>outcome_weekday</th>\n",
       "      <th>stays_count</th>\n",
       "      <th>total_time_in_shelter</th>\n",
       "    </tr>\n",
       "  </thead>\n",
       "  <tbody>\n",
       "    <tr>\n",
       "      <th>0</th>\n",
       "      <td>A006100</td>\n",
       "      <td>2007-07-09</td>\n",
       "      <td>Spinone Italiano</td>\n",
       "      <td>Stray</td>\n",
       "      <td>Normal</td>\n",
       "      <td>10.0</td>\n",
       "      <td>2017-12-07 00:00:00</td>\n",
       "      <td>Thursday</td>\n",
       "      <td>Neutered Male</td>\n",
       "      <td>Yellow/White</td>\n",
       "      <td>NaN</td>\n",
       "      <td>Return to Owner</td>\n",
       "      <td>2014-03-08 17:10:00</td>\n",
       "      <td>Saturday</td>\n",
       "      <td>3.0</td>\n",
       "      <td>2 days 23:05:00</td>\n",
       "    </tr>\n",
       "    <tr>\n",
       "      <th>28010</th>\n",
       "      <td>A047759</td>\n",
       "      <td>2004-04-02</td>\n",
       "      <td>Dachshund</td>\n",
       "      <td>Owner Surrender</td>\n",
       "      <td>Normal</td>\n",
       "      <td>10.0</td>\n",
       "      <td>2014-04-02 15:55:00</td>\n",
       "      <td>Wednesday</td>\n",
       "      <td>Neutered Male</td>\n",
       "      <td>Tricolor</td>\n",
       "      <td>Partner</td>\n",
       "      <td>Transfer</td>\n",
       "      <td>2014-04-07 15:12:00</td>\n",
       "      <td>Monday</td>\n",
       "      <td>1.0</td>\n",
       "      <td>4 days 23:17:00</td>\n",
       "    </tr>\n",
       "    <tr>\n",
       "      <th>28011</th>\n",
       "      <td>A134067</td>\n",
       "      <td>1997-10-16</td>\n",
       "      <td>Shetland Sheepdog</td>\n",
       "      <td>Public Assist</td>\n",
       "      <td>Injured</td>\n",
       "      <td>16.0</td>\n",
       "      <td>2013-11-16 09:02:00</td>\n",
       "      <td>Saturday</td>\n",
       "      <td>Neutered Male</td>\n",
       "      <td>Brown/White</td>\n",
       "      <td>NaN</td>\n",
       "      <td>Return to Owner</td>\n",
       "      <td>2013-11-16 11:54:00</td>\n",
       "      <td>Saturday</td>\n",
       "      <td>1.0</td>\n",
       "      <td>0 days 02:52:00</td>\n",
       "    </tr>\n",
       "    <tr>\n",
       "      <th>28012</th>\n",
       "      <td>A141142</td>\n",
       "      <td>1998-06-01</td>\n",
       "      <td>Labrador Retriever</td>\n",
       "      <td>Stray</td>\n",
       "      <td>Aged</td>\n",
       "      <td>15.0</td>\n",
       "      <td>2013-11-16 14:46:00</td>\n",
       "      <td>Saturday</td>\n",
       "      <td>Spayed Female</td>\n",
       "      <td>Black/White</td>\n",
       "      <td>NaN</td>\n",
       "      <td>Return to Owner</td>\n",
       "      <td>2013-11-17 11:40:00</td>\n",
       "      <td>Sunday</td>\n",
       "      <td>1.0</td>\n",
       "      <td>0 days 20:54:00</td>\n",
       "    </tr>\n",
       "    <tr>\n",
       "      <th>28012</th>\n",
       "      <td>A141142</td>\n",
       "      <td>1998-06-01</td>\n",
       "      <td>Pit Bull</td>\n",
       "      <td>Stray</td>\n",
       "      <td>Aged</td>\n",
       "      <td>15.0</td>\n",
       "      <td>2013-11-16 14:46:00</td>\n",
       "      <td>Saturday</td>\n",
       "      <td>Spayed Female</td>\n",
       "      <td>Black/White</td>\n",
       "      <td>NaN</td>\n",
       "      <td>Return to Owner</td>\n",
       "      <td>2013-11-17 11:40:00</td>\n",
       "      <td>Sunday</td>\n",
       "      <td>1.0</td>\n",
       "      <td>0 days 20:54:00</td>\n",
       "    </tr>\n",
       "  </tbody>\n",
       "</table>\n",
       "</div>"
      ],
      "text/plain": [
       "      animal_id date_of_birth               breed      intake_type  \\\n",
       "0       A006100    2007-07-09   Spinone Italiano             Stray   \n",
       "28010   A047759    2004-04-02           Dachshund  Owner Surrender   \n",
       "28011   A134067    1997-10-16   Shetland Sheepdog    Public Assist   \n",
       "28012   A141142    1998-06-01  Labrador Retriever            Stray   \n",
       "28012   A141142    1998-06-01            Pit Bull            Stray   \n",
       "\n",
       "      intake_condition  age_intake     intake_datetime intake_weekday  \\\n",
       "0               Normal        10.0 2017-12-07 00:00:00       Thursday   \n",
       "28010           Normal        10.0 2014-04-02 15:55:00      Wednesday   \n",
       "28011          Injured        16.0 2013-11-16 09:02:00       Saturday   \n",
       "28012             Aged        15.0 2013-11-16 14:46:00       Saturday   \n",
       "28012             Aged        15.0 2013-11-16 14:46:00       Saturday   \n",
       "\n",
       "      sex_upon_intake         color outcome_subtype     outcome_type  \\\n",
       "0       Neutered Male  Yellow/White             NaN  Return to Owner   \n",
       "28010   Neutered Male      Tricolor         Partner         Transfer   \n",
       "28011   Neutered Male   Brown/White             NaN  Return to Owner   \n",
       "28012   Spayed Female   Black/White             NaN  Return to Owner   \n",
       "28012   Spayed Female   Black/White             NaN  Return to Owner   \n",
       "\n",
       "         outcome_datetime outcome_weekday  stays_count total_time_in_shelter  \n",
       "0     2014-03-08 17:10:00        Saturday          3.0       2 days 23:05:00  \n",
       "28010 2014-04-07 15:12:00          Monday          1.0       4 days 23:17:00  \n",
       "28011 2013-11-16 11:54:00        Saturday          1.0       0 days 02:52:00  \n",
       "28012 2013-11-17 11:40:00          Sunday          1.0       0 days 20:54:00  \n",
       "28012 2013-11-17 11:40:00          Sunday          1.0       0 days 20:54:00  "
      ]
     },
     "execution_count": 1833,
     "metadata": {},
     "output_type": "execute_result"
    }
   ],
   "source": [
    "dogs_mixes.sort_values('animal_id').head()"
   ]
  },
  {
   "cell_type": "code",
   "execution_count": 1834,
   "id": "995c4033-bc8d-4579-8498-a0b731602a48",
   "metadata": {},
   "outputs": [],
   "source": [
    "dogs_mixes['breed'] = dogs_mixes['breed'].apply(lambda br: br.strip().replace('St.', 'Saint'))"
   ]
  },
  {
   "cell_type": "markdown",
   "id": "3825223e-56bd-4c18-833d-5d6592733c28",
   "metadata": {},
   "source": [
    "#### Step 2: Merge and add 'has_match' column: ####\n",
    "I want to know which rows need their breed 'fixed' in order to smoothly merge with 'breeds' dataframe. <br>\n",
    "So I merge with only the breed column and use description column as flag - if empty -> breed is not matched. (After checking that all breeds have description)"
   ]
  },
  {
   "cell_type": "code",
   "execution_count": 1835,
   "id": "257f518c-7c4b-4851-8093-5b82ec0fd336",
   "metadata": {},
   "outputs": [],
   "source": [
    "dogs_mixes = pd.merge(dogs_mixes, breeds[['breed', 'description']], how = 'left', on = 'breed')"
   ]
  },
  {
   "cell_type": "markdown",
   "id": "402d1bc4-08f5-404c-9411-d05857116f0c",
   "metadata": {},
   "source": [
    "step 2: Rename column and convert values to boolean"
   ]
  },
  {
   "cell_type": "code",
   "execution_count": 1836,
   "id": "80521168-e532-4c83-bc0b-79960c6c0645",
   "metadata": {},
   "outputs": [],
   "source": [
    "dogs_mixes['description'] = dogs_mixes['description'].apply(lambda x: not pd.isnull(x))"
   ]
  },
  {
   "cell_type": "code",
   "execution_count": 1837,
   "id": "accbfd3f-0ea5-4a7f-bf11-35c52e9cfbd8",
   "metadata": {},
   "outputs": [],
   "source": [
    "dogs_mixes = dogs_mixes.rename({'description': 'has_match'}, axis = 1)"
   ]
  },
  {
   "cell_type": "code",
   "execution_count": 1838,
   "id": "c23eaa55-c491-4390-8b59-69504b47ec45",
   "metadata": {},
   "outputs": [
    {
     "data": {
      "text/plain": [
       "dtype('bool')"
      ]
     },
     "execution_count": 1838,
     "metadata": {},
     "output_type": "execute_result"
    }
   ],
   "source": [
    "dogs_mixes.has_match.dtype"
   ]
  },
  {
   "cell_type": "markdown",
   "id": "f1665fb2-022f-4f91-a7fa-ca2318c80577",
   "metadata": {},
   "source": [
    "#### Step 3: Take care of unmatched breeds ####\n",
    "\n",
    "At first I tried to map the unmatched ones to the AKC breeds by hand and I noticed a pattern - if the breed existed in the AKC dataset, usually <b>the stem of at least one word on the unmatched breed would be the same as the stem of some word in the official version.</b>. (e.g.  'Mini Poodle' => 'Poodle (Miniature)' or 'Cavalier Span' -> 'Cavalier King Charles Spaniel') So with some *restrictions, I managed to automate the process with very good results. <br><br>\n",
    "For an unmatched breed, I separate it into words (after lowering, strip, removing punctuation etc) and try to match it to each word in the official breeds. At the end, I have a dataset ('breed' , 'score'), which keeps score of how many words have been matched.<br>\n",
    "Out of that dataset, the breeds with max score are put in a list and mapped to the unmatched name: <br><br>\n",
    "<code> shelter_to_akc_breeds = { 'Collie Smooth': ['Bearded Collie', 'Border Collie', 'Collie', 'Smooth Fox Terrier'], ...} </code><br><br>\n",
    "This dictionary is later used to fill in the missing breeds, using random where there are more than one.<br/><br>\n",
    "*restrictions mentioned - I only match from the start (see is_word_in_breed()) to avoid \"meaningless\" matches like '<b>Pit</b> Bull</b>' and 'Chinese S<b>pit</b>s'. I also have an array of THROW OFFS for the same reason - avoiding words that won't help the matching process. For comparison:\n",
    "<uol>\n",
    "<li>'shorthair' - is not so descriptive of the breed as it is of the fur. Causs matches with breeds with all kinds of characteristics.</li>\n",
    "<li>'hound' - may lead to a match that's not exactly the same type of hound but it still narrows down to a subset with similar characteristics</li>\n",
    "</uol>"
   ]
  },
  {
   "cell_type": "code",
   "execution_count": 1839,
   "id": "071d3bb0-cf73-452b-a01e-c2d176f675f8",
   "metadata": {},
   "outputs": [],
   "source": [
    "reg_breeds = breeds.breed\n",
    "THROW_OFFS = ['longhair', 'shorthair', 'english']"
   ]
  },
  {
   "cell_type": "code",
   "execution_count": 1840,
   "id": "00d0b28b-62d0-4d07-85d8-0b9208f31bfd",
   "metadata": {},
   "outputs": [],
   "source": [
    "def normalize_str(str):\n",
    "    return re.sub(r'[-()]', '', str.lower()).strip()"
   ]
  },
  {
   "cell_type": "code",
   "execution_count": 1841,
   "id": "4c984b40-4a4f-4b88-a2a3-c4ecb2f76125",
   "metadata": {},
   "outputs": [],
   "source": [
    "def is_word_in_breed(breed, word):\n",
    "    \"\"\" \n",
    "        Matches \"word\" to the beginning of\n",
    "        every word in \"row.breed\"\n",
    "        pit -x-> spits\n",
    "        span --> spaniel\n",
    "    \"\"\"\n",
    "    breed = normalize_str(breed)\n",
    "    match_from_start = r'^' + word + '| ' + word\n",
    "    to_add = 1 if re.search(match_from_start, breed) else 0\n",
    "    return to_add"
   ]
  },
  {
   "cell_type": "code",
   "execution_count": 1842,
   "id": "285e2696-f156-4537-bc9f-83838fa846a2",
   "metadata": {},
   "outputs": [],
   "source": [
    "def get_match_score_of_row(row, word):\n",
    "    return row['score'] + is_word_in_breed(row.breed, word)"
   ]
  },
  {
   "cell_type": "code",
   "execution_count": 1843,
   "id": "77ea4b86-4ede-4021-8a8d-6e99ac689a3e",
   "metadata": {},
   "outputs": [],
   "source": [
    "def best_breed_matches(breed):\n",
    "    \"\"\"\n",
    "        Returns a list of AKC registered breeds that best match 'breed'\n",
    "    \"\"\"\n",
    "    breed_words = [normalize_str(word) for word in breed.split()]\n",
    "    \n",
    "    breed_match = breeds[['breed']].copy()\n",
    "    breed_match['score'] = 0;\n",
    "    \n",
    "    for word in breed_words:\n",
    "        if word in THROW_OFFS:\n",
    "            continue\n",
    "        breed_match['score'] = breed_match.apply(lambda row: get_match_score_of_row(row, word), axis = 1)\n",
    "        \n",
    "    top_matches =  breed_match.loc[breed_match['score'] == breed_match['score'].max()].reset_index()\n",
    "    return top_matches['breed'].tolist() if (top_matches['score'].max() > 0) else []"
   ]
  },
  {
   "cell_type": "markdown",
   "id": "4213cac8-f4e5-4700-8f4d-fdf48a1d544a",
   "metadata": {},
   "source": [
    "Creating a dictionary for breed mapping from the unofficial unmatched breeds to the AKC registered breeds."
   ]
  },
  {
   "cell_type": "code",
   "execution_count": 1844,
   "id": "411982f9-918f-4db1-b284-96426488256d",
   "metadata": {},
   "outputs": [],
   "source": [
    "unmatched_breeds = dogs_mixes.loc[~dogs_mixes['has_match'], 'breed'].unique()"
   ]
  },
  {
   "cell_type": "code",
   "execution_count": 1845,
   "id": "c006b363-f138-4f3f-aa3b-f717bc7ba15d",
   "metadata": {
    "scrolled": true
   },
   "outputs": [
    {
     "data": {
      "text/plain": [
       "{'Chihuahua Shorthair': ['Chihuahua'],\n",
       " 'Queensland Heeler': ['Lancashire Heeler'],\n",
       " 'Pit Bull': ['American Bulldog',\n",
       "  'Bull Terrier',\n",
       "  'Bulldog',\n",
       "  'Bullmastiff',\n",
       "  'French Bulldog',\n",
       "  'Miniature Bull Terrier',\n",
       "  'Staffordshire Bull Terrier'],\n",
       " 'Catahoula': ['Catahoula Leopard Dog'],\n",
       " 'Mexican Hairless': ['American Hairless Terrier'],\n",
       " 'German Shorthair Pointer': ['German Longhaired Pointer',\n",
       "  'German Shorthaired Pointer',\n",
       "  'German Wirehaired Pointer'],\n",
       " 'Anatol Shepherd': ['Anatolian Shepherd Dog'],\n",
       " 'Wire Hair Fox Terrier': ['Wire Fox Terrier'],\n",
       " 'German Shepherd': ['German Shepherd Dog'],\n",
       " 'Chihuahua Longhair': ['Chihuahua'],\n",
       " 'Staffordshire': ['American Staffordshire Terrier',\n",
       "  'Staffordshire Bull Terrier'],\n",
       " 'Black Mouth Cur': ['Black and Tan Coonhound',\n",
       "  'Black Russian Terrier',\n",
       "  'Curly-Coated Retriever',\n",
       "  'Mountain Cur'],\n",
       " 'Jack Russell Terrier': ['Parson Russell Terrier', 'Russell Terrier'],\n",
       " 'Blue Lacy': ['Bluetick Coonhound', 'Kerry Blue Terrier'],\n",
       " 'Miniature Poodle': ['Poodle (Miniature)'],\n",
       " 'Flat Coat Retriever': ['Flat-Coated Retriever'],\n",
       " 'American Pit Bull Terrier': ['American Bulldog',\n",
       "  'American Hairless Terrier',\n",
       "  'American Staffordshire Terrier',\n",
       "  'Bull Terrier',\n",
       "  'Miniature Bull Terrier',\n",
       "  'Staffordshire Bull Terrier'],\n",
       " 'Dachshund Longhair': ['Dachshund'],\n",
       " 'Chinese Sharpei': ['Chinese Shar-Pei'],\n",
       " 'Dachshund Wirehair': ['Dachshund',\n",
       "  'German Wirehaired Pointer',\n",
       "  'Slovakian Wirehaired Pointer',\n",
       "  'Wirehaired Pointing Griffon',\n",
       "  'Wirehaired Vizsla'],\n",
       " 'Doberman Pinsch': ['Doberman Pinscher'],\n",
       " 'Rhod Ridgeback': ['Rhodesian Ridgeback'],\n",
       " 'Toy Poodle': ['Poodle (Toy)'],\n",
       " 'Boykin Span': ['Boykin Spaniel'],\n",
       " 'West Highland': ['West Highland White Terrier'],\n",
       " 'Feist': [],\n",
       " 'Alaskan Husky': ['Alaskan Malamute', 'Siberian Husky'],\n",
       " 'Bruss Griffon': ['Brussels Griffon'],\n",
       " 'Old English Bulldog': ['American Bulldog',\n",
       "  'Bulldog',\n",
       "  'French Bulldog',\n",
       "  'Old English Sheepdog'],\n",
       " 'English Bulldog': ['American Bulldog', 'Bulldog', 'French Bulldog'],\n",
       " 'Schnauzer Giant': ['Giant Schnauzer'],\n",
       " 'Bull Terrier Miniature': ['Miniature Bull Terrier'],\n",
       " 'Standard Poodle': ['Poodle (Standard)'],\n",
       " 'American Eskimo': ['American Eskimo Dog'],\n",
       " 'Collie Smooth': ['Bearded Collie',\n",
       "  'Border Collie',\n",
       "  'Collie',\n",
       "  'Smooth Fox Terrier'],\n",
       " 'Redbone Hound': ['Afghan Hound',\n",
       "  'American Leopard Hound',\n",
       "  'Basset Hound',\n",
       "  'Bavarian Mountain Scent Hound',\n",
       "  'Ibizan Hound',\n",
       "  'Pharaoh Hound',\n",
       "  'Plott Hound',\n",
       "  'Redbone Coonhound',\n",
       "  'Transylvanian Hound'],\n",
       " 'Glen Of Imaal': ['Glen of Imaal Terrier'],\n",
       " 'English Coonhound': ['American English Coonhound',\n",
       "  'Black and Tan Coonhound',\n",
       "  'Bluetick Coonhound',\n",
       "  'Redbone Coonhound',\n",
       "  'Treeing Walker Coonhound'],\n",
       " 'Cavalier Span': ['Cavalier King Charles Spaniel'],\n",
       " 'Manchester Terrier': ['Manchester Terrier (Standard)',\n",
       "  'Manchester Terrier (Toy)'],\n",
       " 'Presa Canario': ['Perro de Presa Canario'],\n",
       " 'Saint Bernard Smooth Coat': ['Saint Bernard'],\n",
       " 'Akbash': [],\n",
       " 'Bluetick Hound': ['Afghan Hound',\n",
       "  'American Leopard Hound',\n",
       "  'Basset Hound',\n",
       "  'Bavarian Mountain Scent Hound',\n",
       "  'Bluetick Coonhound',\n",
       "  'Ibizan Hound',\n",
       "  'Pharaoh Hound',\n",
       "  'Plott Hound',\n",
       "  'Transylvanian Hound'],\n",
       " 'Coton De Tulear': ['Coton de Tulear'],\n",
       " 'Treeing Cur': ['Curly-Coated Retriever',\n",
       "  'Mountain Cur',\n",
       "  'Treeing Tennessee Brindle',\n",
       "  'Treeing Walker Coonhound'],\n",
       " 'Picardy Sheepdog': ['Belgian Sheepdog',\n",
       "  'Bergamasco Sheepdog',\n",
       "  'Croatian Sheepdog',\n",
       "  'Icelandic Sheepdog',\n",
       "  'Old English Sheepdog',\n",
       "  'Polish Lowland Sheepdog',\n",
       "  'Portuguese Sheepdog',\n",
       "  'Shetland Sheepdog'],\n",
       " 'Saint Bernard Rough Coat': ['Saint Bernard'],\n",
       " 'Sussex Span': ['Sussex Spaniel'],\n",
       " 'Pbgv': [],\n",
       " 'Collie Rough': ['Bearded Collie', 'Border Collie', 'Collie'],\n",
       " 'English Shepherd': ['Anatolian Shepherd Dog',\n",
       "  'Australian Shepherd',\n",
       "  'Bohemian Shepherd',\n",
       "  'Caucasian Shepherd Dog',\n",
       "  'Central Asian Shepherd Dog',\n",
       "  'Dutch Shepherd',\n",
       "  'German Shepherd Dog',\n",
       "  'Miniature American Shepherd',\n",
       "  'Pyrenean Shepherd',\n",
       "  'Romanian Mioritic Shepherd Dog'],\n",
       " 'Chesa Bay Retr': ['Chesapeake Bay Retriever'],\n",
       " 'Dogue De Bordeaux': ['Dogue de Bordeaux'],\n",
       " 'Patterdale Terr': ['Airedale Terrier',\n",
       "  'American Hairless Terrier',\n",
       "  'American Staffordshire Terrier',\n",
       "  'Australian Terrier',\n",
       "  'Bedlington Terrier',\n",
       "  'Biewer Terrier',\n",
       "  'Black Russian Terrier',\n",
       "  'Border Terrier',\n",
       "  'Boston Terrier',\n",
       "  'Bull Terrier',\n",
       "  'Cairn Terrier',\n",
       "  'Cesky Terrier',\n",
       "  'Dandie Dinmont Terrier',\n",
       "  'Glen of Imaal Terrier',\n",
       "  'Irish Terrier',\n",
       "  'Kerry Blue Terrier',\n",
       "  'Lakeland Terrier',\n",
       "  'Manchester Terrier (Standard)',\n",
       "  'Manchester Terrier (Toy)',\n",
       "  'Miniature Bull Terrier',\n",
       "  'Norfolk Terrier',\n",
       "  'Norwich Terrier',\n",
       "  'Parson Russell Terrier',\n",
       "  'Rat Terrier',\n",
       "  'Russell Terrier',\n",
       "  'Scottish Terrier',\n",
       "  'Sealyham Terrier',\n",
       "  'Silky Terrier',\n",
       "  'Skye Terrier',\n",
       "  'Smooth Fox Terrier',\n",
       "  'Soft Coated Wheaten Terrier',\n",
       "  'Staffordshire Bull Terrier',\n",
       "  'Teddy Roosevelt Terrier',\n",
       "  'Tibetan Terrier',\n",
       "  'Toy Fox Terrier',\n",
       "  'Welsh Terrier',\n",
       "  'West Highland White Terrier',\n",
       "  'Wire Fox Terrier',\n",
       "  'Yorkshire Terrier'],\n",
       " 'English Pointer': ['German Longhaired Pointer',\n",
       "  'German Shorthaired Pointer',\n",
       "  'German Wirehaired Pointer',\n",
       "  'Pointer',\n",
       "  'Portuguese Pointer',\n",
       "  'Slovakian Wirehaired Pointer',\n",
       "  'Small Munsterlander Pointer'],\n",
       " 'Lowchen': [],\n",
       " 'Unknown': [],\n",
       " 'Podengo Pequeno': ['Portuguese Podengo Pequeno'],\n",
       " 'Treeing Tennesse Brindle': ['Treeing Tennessee Brindle'],\n",
       " 'Landseer': [],\n",
       " 'Dandie Dinmont': ['Dandie Dinmont Terrier'],\n",
       " 'Grand Basset Griffon Vendeen': ['Grand Basset Griffon Vendéen'],\n",
       " 'Bouv Flandres': ['Bouvier des Flandres'],\n",
       " 'Cirneco': ['Cirneco dell’Etna'],\n",
       " 'Swiss Hound': ['Afghan Hound',\n",
       "  'American Leopard Hound',\n",
       "  'Basset Hound',\n",
       "  'Bavarian Mountain Scent Hound',\n",
       "  'Greater Swiss Mountain Dog',\n",
       "  'Ibizan Hound',\n",
       "  'Pharaoh Hound',\n",
       "  'Plott Hound',\n",
       "  'Transylvanian Hound'],\n",
       " 'Yorkshire': ['Yorkshire Terrier'],\n",
       " 'Kangal': [],\n",
       " 'Dachshund Stan': ['Dachshund',\n",
       "  'Manchester Terrier (Standard)',\n",
       "  'Poodle (Standard)',\n",
       "  'Standard Schnauzer'],\n",
       " 'Entlebucher': ['Entlebucher Mountain Dog'],\n",
       " 'Eng Toy Spaniel': ['English Toy Spaniel'],\n",
       " 'Bedlington Terr': ['Bedlington Terrier'],\n",
       " 'Port Water Dog': ['Portuguese Water Dog'],\n",
       " 'Sealyham Terr': ['Sealyham Terrier']}"
      ]
     },
     "execution_count": 1845,
     "metadata": {},
     "output_type": "execute_result"
    }
   ],
   "source": [
    "shelter_to_akc_breeds = {}\n",
    "\n",
    "for unmatched_breed in unmatched_breeds:\n",
    "    shelter_to_akc_breeds[unmatched_breed] = best_breed_matches(unmatched_breed)\n",
    "\n",
    "shelter_to_akc_breeds"
   ]
  },
  {
   "cell_type": "markdown",
   "id": "3a74f2ed-2fa8-4c2f-8931-220e3360e3c9",
   "metadata": {},
   "source": [
    "#### Filling in the missing values: ####"
   ]
  },
  {
   "cell_type": "code",
   "execution_count": 1846,
   "id": "85ab5b1d-6da8-40cc-84c4-3558b493647c",
   "metadata": {},
   "outputs": [],
   "source": [
    "def match_dog_breed(row, breed_dict = shelter_to_akc_breeds):\n",
    "    \"\"\" \n",
    "        Takes a row and a dictionary mapping shelter breeds to AKC breeds\n",
    "        If row.has_match is false, \n",
    "        it assigns it one of the values of breed_dict[row.breed]\n",
    "    \"\"\"\n",
    "    dog_misses_breed = not row.has_match\n",
    "    if dog_misses_breed:\n",
    "        possible_breeds = breed_dict[row.breed]\n",
    "        if not len(possible_breeds): return None\n",
    "        return possible_breeds[random.randint(0, len(possible_breeds) - 1)]\n",
    "    return row.breed_match if hasattr(row, 'breed_match') else row.breed"
   ]
  },
  {
   "cell_type": "code",
   "execution_count": 1847,
   "id": "6c1993a4-6586-42db-9c6a-4e68e7978cc7",
   "metadata": {},
   "outputs": [],
   "source": [
    "dogs_mixes['breed_match'] = dogs_mixes.apply(match_dog_breed, axis = 1)"
   ]
  },
  {
   "cell_type": "code",
   "execution_count": 1848,
   "id": "274ba514-1e98-4ebf-883e-a9c1dc67a8bd",
   "metadata": {},
   "outputs": [
    {
     "data": {
      "text/html": [
       "<div>\n",
       "<style scoped>\n",
       "    .dataframe tbody tr th:only-of-type {\n",
       "        vertical-align: middle;\n",
       "    }\n",
       "\n",
       "    .dataframe tbody tr th {\n",
       "        vertical-align: top;\n",
       "    }\n",
       "\n",
       "    .dataframe thead th {\n",
       "        text-align: right;\n",
       "    }\n",
       "</style>\n",
       "<table border=\"1\" class=\"dataframe\">\n",
       "  <thead>\n",
       "    <tr style=\"text-align: right;\">\n",
       "      <th></th>\n",
       "      <th>animal_id</th>\n",
       "      <th>date_of_birth</th>\n",
       "      <th>breed</th>\n",
       "      <th>intake_type</th>\n",
       "      <th>intake_condition</th>\n",
       "      <th>age_intake</th>\n",
       "      <th>intake_datetime</th>\n",
       "      <th>intake_weekday</th>\n",
       "      <th>sex_upon_intake</th>\n",
       "      <th>color</th>\n",
       "      <th>outcome_subtype</th>\n",
       "      <th>outcome_type</th>\n",
       "      <th>outcome_datetime</th>\n",
       "      <th>outcome_weekday</th>\n",
       "      <th>stays_count</th>\n",
       "      <th>total_time_in_shelter</th>\n",
       "      <th>has_match</th>\n",
       "      <th>breed_match</th>\n",
       "    </tr>\n",
       "  </thead>\n",
       "  <tbody>\n",
       "    <tr>\n",
       "      <th>0</th>\n",
       "      <td>A006100</td>\n",
       "      <td>2007-07-09</td>\n",
       "      <td>Spinone Italiano</td>\n",
       "      <td>Stray</td>\n",
       "      <td>Normal</td>\n",
       "      <td>10.0</td>\n",
       "      <td>2017-12-07 00:00:00</td>\n",
       "      <td>Thursday</td>\n",
       "      <td>Neutered Male</td>\n",
       "      <td>Yellow/White</td>\n",
       "      <td>NaN</td>\n",
       "      <td>Return to Owner</td>\n",
       "      <td>2014-03-08 17:10:00</td>\n",
       "      <td>Saturday</td>\n",
       "      <td>3.0</td>\n",
       "      <td>2 days 23:05:00</td>\n",
       "      <td>True</td>\n",
       "      <td>Spinone Italiano</td>\n",
       "    </tr>\n",
       "    <tr>\n",
       "      <th>1</th>\n",
       "      <td>A726434</td>\n",
       "      <td>2009-05-10</td>\n",
       "      <td>Chihuahua Shorthair</td>\n",
       "      <td>Stray</td>\n",
       "      <td>Normal</td>\n",
       "      <td>7.0</td>\n",
       "      <td>2016-05-10 18:08:00</td>\n",
       "      <td>Tuesday</td>\n",
       "      <td>Intact Male</td>\n",
       "      <td>Black/White</td>\n",
       "      <td>NaN</td>\n",
       "      <td>Adoption</td>\n",
       "      <td>2016-05-22 13:21:00</td>\n",
       "      <td>Sunday</td>\n",
       "      <td>1.0</td>\n",
       "      <td>11 days 19:13:00</td>\n",
       "      <td>True</td>\n",
       "      <td>Chihuahua</td>\n",
       "    </tr>\n",
       "    <tr>\n",
       "      <th>2</th>\n",
       "      <td>A726435</td>\n",
       "      <td>2013-05-10</td>\n",
       "      <td>Dachshund</td>\n",
       "      <td>Owner Surrender</td>\n",
       "      <td>Normal</td>\n",
       "      <td>3.0</td>\n",
       "      <td>2016-05-21 18:08:00</td>\n",
       "      <td>Saturday</td>\n",
       "      <td>Spayed Female</td>\n",
       "      <td>Black/White</td>\n",
       "      <td>NaN</td>\n",
       "      <td>Adoption</td>\n",
       "      <td>2016-05-17 17:56:00</td>\n",
       "      <td>Tuesday</td>\n",
       "      <td>2.0</td>\n",
       "      <td>135 days 14:39:00</td>\n",
       "      <td>True</td>\n",
       "      <td>Dachshund</td>\n",
       "    </tr>\n",
       "    <tr>\n",
       "      <th>3</th>\n",
       "      <td>A726442</td>\n",
       "      <td>2015-12-11</td>\n",
       "      <td>Queensland Heeler</td>\n",
       "      <td>Stray</td>\n",
       "      <td>Normal</td>\n",
       "      <td>0.0</td>\n",
       "      <td>2016-05-10 18:55:00</td>\n",
       "      <td>Tuesday</td>\n",
       "      <td>Intact Male</td>\n",
       "      <td>Tan/White</td>\n",
       "      <td>NaN</td>\n",
       "      <td>Adoption</td>\n",
       "      <td>2016-05-14 18:00:00</td>\n",
       "      <td>Saturday</td>\n",
       "      <td>1.0</td>\n",
       "      <td>3 days 23:05:00</td>\n",
       "      <td>True</td>\n",
       "      <td>Lancashire Heeler</td>\n",
       "    </tr>\n",
       "    <tr>\n",
       "      <th>4</th>\n",
       "      <td>A726442</td>\n",
       "      <td>2015-12-11</td>\n",
       "      <td>Dachshund</td>\n",
       "      <td>Stray</td>\n",
       "      <td>Normal</td>\n",
       "      <td>0.0</td>\n",
       "      <td>2016-05-10 18:55:00</td>\n",
       "      <td>Tuesday</td>\n",
       "      <td>Intact Male</td>\n",
       "      <td>Tan/White</td>\n",
       "      <td>NaN</td>\n",
       "      <td>Adoption</td>\n",
       "      <td>2016-05-14 18:00:00</td>\n",
       "      <td>Saturday</td>\n",
       "      <td>1.0</td>\n",
       "      <td>3 days 23:05:00</td>\n",
       "      <td>True</td>\n",
       "      <td>Dachshund</td>\n",
       "    </tr>\n",
       "  </tbody>\n",
       "</table>\n",
       "</div>"
      ],
      "text/plain": [
       "  animal_id date_of_birth                breed      intake_type  \\\n",
       "0   A006100    2007-07-09     Spinone Italiano            Stray   \n",
       "1   A726434    2009-05-10  Chihuahua Shorthair            Stray   \n",
       "2   A726435    2013-05-10            Dachshund  Owner Surrender   \n",
       "3   A726442    2015-12-11    Queensland Heeler            Stray   \n",
       "4   A726442    2015-12-11            Dachshund            Stray   \n",
       "\n",
       "  intake_condition  age_intake     intake_datetime intake_weekday  \\\n",
       "0           Normal        10.0 2017-12-07 00:00:00       Thursday   \n",
       "1           Normal         7.0 2016-05-10 18:08:00        Tuesday   \n",
       "2           Normal         3.0 2016-05-21 18:08:00       Saturday   \n",
       "3           Normal         0.0 2016-05-10 18:55:00        Tuesday   \n",
       "4           Normal         0.0 2016-05-10 18:55:00        Tuesday   \n",
       "\n",
       "  sex_upon_intake         color outcome_subtype     outcome_type  \\\n",
       "0   Neutered Male  Yellow/White             NaN  Return to Owner   \n",
       "1     Intact Male   Black/White             NaN         Adoption   \n",
       "2   Spayed Female   Black/White             NaN         Adoption   \n",
       "3     Intact Male     Tan/White             NaN         Adoption   \n",
       "4     Intact Male     Tan/White             NaN         Adoption   \n",
       "\n",
       "     outcome_datetime outcome_weekday  stays_count total_time_in_shelter  \\\n",
       "0 2014-03-08 17:10:00        Saturday          3.0       2 days 23:05:00   \n",
       "1 2016-05-22 13:21:00          Sunday          1.0      11 days 19:13:00   \n",
       "2 2016-05-17 17:56:00         Tuesday          2.0     135 days 14:39:00   \n",
       "3 2016-05-14 18:00:00        Saturday          1.0       3 days 23:05:00   \n",
       "4 2016-05-14 18:00:00        Saturday          1.0       3 days 23:05:00   \n",
       "\n",
       "   has_match        breed_match  \n",
       "0       True   Spinone Italiano  \n",
       "1       True          Chihuahua  \n",
       "2       True          Dachshund  \n",
       "3       True  Lancashire Heeler  \n",
       "4       True          Dachshund  "
      ]
     },
     "execution_count": 1848,
     "metadata": {},
     "output_type": "execute_result"
    }
   ],
   "source": [
    "# Updating has_match\n",
    "dogs_mixes['has_match'] = dogs_mixes.apply(lambda row: not pd.isnull(row.breed_match), axis = 1)\n",
    "dogs_mixes.head(5)"
   ]
  },
  {
   "cell_type": "markdown",
   "id": "685aaf85-b060-4e36-802f-14d879ba6cf0",
   "metadata": {},
   "source": [
    "#### A few more missing values ####\n",
    "\n",
    "Breeds the mapper failed to recognize because they are aliases. And a few unknowns. I manually created a dictionary for them."
   ]
  },
  {
   "cell_type": "code",
   "execution_count": 1849,
   "id": "99dab9f1-8627-4853-8a29-97f3f140bb3e",
   "metadata": {},
   "outputs": [
    {
     "data": {
      "text/plain": [
       "Pbgv        28\n",
       "Feist       16\n",
       "Landseer    10\n",
       "Lowchen      3\n",
       "Akbash       2\n",
       "Unknown      2\n",
       "Kangal       1\n",
       "Name: breed, dtype: int64"
      ]
     },
     "execution_count": 1849,
     "metadata": {},
     "output_type": "execute_result"
    }
   ],
   "source": [
    "dogs_mixes.loc[dogs_mixes['breed_match'].isnull()]['breed'].value_counts()"
   ]
  },
  {
   "cell_type": "code",
   "execution_count": 1850,
   "id": "62e81183-f94f-4d47-b093-b0fec84efadf",
   "metadata": {},
   "outputs": [],
   "source": [
    "# Dropping 'Unknown' breeds\n",
    "dogs_mixes = dogs_mixes.loc[dogs_mixes['breed'] != 'Unknown'].copy()"
   ]
  },
  {
   "cell_type": "code",
   "execution_count": 1851,
   "id": "222a5ceb-98fe-4e6b-ac5d-0cb6f1495ef0",
   "metadata": {},
   "outputs": [],
   "source": [
    "manual_breed_match = {\n",
    "    'Pbgv': ['Petit Basset Griffon Vendéen'],\n",
    "    'Feist': ['Rat Terrier'],\n",
    "    'Landseer': ['Newfoundland'],\n",
    "    'Lowchen': ['Löwchen'],\n",
    "    'Akbash': ['Anatolian Shepherd Dog'],\n",
    "    'Kangal': ['Anatolian Shepherd Dog']\n",
    "}"
   ]
  },
  {
   "cell_type": "code",
   "execution_count": 1852,
   "id": "776f4358-aee9-4069-bbdd-9f2787efe98e",
   "metadata": {},
   "outputs": [],
   "source": [
    "# Matching dog breeds with manual map this time\n",
    "dogs_mixes['breed_match'] = dogs_mixes.apply(lambda row: match_dog_breed(row, manual_breed_match), axis = 1)"
   ]
  },
  {
   "cell_type": "code",
   "execution_count": 1853,
   "id": "05969d08-b76d-4ef5-92bc-bb953a737a6b",
   "metadata": {},
   "outputs": [],
   "source": [
    "# Updating has_match\n",
    "dogs_mixes['has_match'] = dogs_mixes.apply(lambda row: not pd.isnull(row.breed_match), axis = 1)"
   ]
  },
  {
   "cell_type": "code",
   "execution_count": 1854,
   "id": "0e860863-6d39-4085-8377-b7ec2ef386b4",
   "metadata": {},
   "outputs": [
    {
     "data": {
      "text/plain": [
       "0"
      ]
     },
     "execution_count": 1854,
     "metadata": {},
     "output_type": "execute_result"
    }
   ],
   "source": [
    "dogs_mixes[dogs_mixes.has_match == False].shape[0]"
   ]
  },
  {
   "cell_type": "markdown",
   "id": "838f7c58-5f8c-4aec-9a33-5a0a22dfcb6c",
   "metadata": {},
   "source": [
    "## 4. Dealing with breed mixes by mixing breeds ##\n",
    "\n",
    "Every row now corresponds to exactly one breed from the 'breeds' dataset. My next goal is for one row to represent one unique dog with breed information and shelter history. \n",
    "\n",
    "<b>The question is, how will a dog of mixed breed be mapped to a dataset of pure breeds?</b><br>\n",
    "In order to account for the 'mixes' I will try to 'mix' the breeds in the dataset as well - try to 'derive' the mixed breed out of the main ones by averaging values. That's my best guess at the moment.\n",
    "\n",
    "\n",
    "<ol>\n",
    "    <li>Merge with breeds while there's still one breed per row</li>\n",
    "    <li>\n",
    "        Pivot breed columns\n",
    "    </li>\n",
    "    <li>\n",
    "        \"Mix\" breeds:<br>\n",
    "            - Numerical features - take the mean of the two breeds<br/>\n",
    "            - Categorical features - if they differ, put in 'Miscellaneous Class'<br/>\n",
    "            - * Descri\n",
    "        ption - keeping both columns for now<br/>\n",
    "            - * Temperament - taking the set of all characteristics mentioned for both breeds<br/>\n",
    "    </li>\n",
    "    <li>Discard useless columns</li>\n",
    "</ol>\n",
    "\n",
    "![Representing a breed mix](https://i.ibb.co/gt01sjP/Diagram3-m.png)\n",
    "<!-- ![Representing a breed mix](./Diagram3_m.png) -->\n",
    "\n",
    "#### Step 1: Merge with breeds: ####"
   ]
  },
  {
   "cell_type": "code",
   "execution_count": 1855,
   "id": "e6c31c75-ccfa-43a3-b17e-55b80c77347e",
   "metadata": {},
   "outputs": [],
   "source": [
    "dogs_mixes['breed_num'] = dogs_mixes.groupby('animal_id').cumcount()"
   ]
  },
  {
   "cell_type": "code",
   "execution_count": 1856,
   "id": "a69e8500-b4f5-4048-9731-f4810a957dd0",
   "metadata": {},
   "outputs": [],
   "source": [
    "dogs_breeds = pd.merge(dogs_mixes, breeds, how = 'left', left_on = 'breed_match', right_on = 'breed')"
   ]
  },
  {
   "cell_type": "markdown",
   "id": "5c8e5181-dcb4-4d38-b751-fc811bfb8b22",
   "metadata": {},
   "source": [
    "#### Mid-step: dropping and renaming columns"
   ]
  },
  {
   "cell_type": "code",
   "execution_count": 1857,
   "id": "d1993e9e-7862-4d64-a5f2-7f7ab2a14131",
   "metadata": {},
   "outputs": [],
   "source": [
    "dogs_breeds = dogs_breeds.rename({'breed_x': 'breed'}, axis = 1)"
   ]
  },
  {
   "cell_type": "code",
   "execution_count": 1858,
   "id": "69acc5c6-0566-4d63-8bb3-c038621cc1b7",
   "metadata": {},
   "outputs": [],
   "source": [
    "def average_row_vals():\n",
    "    dogs_breeds['avg_height'] = dogs_breeds[['min_height', 'min_height']].mean(axis=1)\n",
    "    dogs_breeds['avg_weight'] = dogs_breeds[['min_weight', 'max_weight']].mean(axis=1)\n",
    "    dogs_breeds['avg_expectancy'] = dogs_breeds[['min_expectancy', 'max_expectancy']].mean(axis=1)"
   ]
  },
  {
   "cell_type": "code",
   "execution_count": 1859,
   "id": "5cc4a82b-7b22-49ca-8b72-c5eae8ba0e31",
   "metadata": {},
   "outputs": [],
   "source": [
    "average_row_vals()"
   ]
  },
  {
   "cell_type": "code",
   "execution_count": 1860,
   "id": "3a289818-2516-48a1-8e5a-99c9585d737c",
   "metadata": {},
   "outputs": [],
   "source": [
    "more_useless_cols_re = [r'_y$', r'^min_|max_']\n",
    "cols_to_remove = get_cols_to_remove(more_useless_cols_re, dogs_breeds)\n",
    "\n",
    "dogs_breeds = dogs_breeds.drop(cols_to_remove, axis = 1)"
   ]
  },
  {
   "cell_type": "markdown",
   "id": "5362ccea-09f3-4804-9495-feac0e11e9bf",
   "metadata": {},
   "source": [
    "#### Step 2: Pivot breed columns ####"
   ]
  },
  {
   "cell_type": "code",
   "execution_count": 2009,
   "id": "67e0b64c-adf7-4d69-868a-0a8221dd8db8",
   "metadata": {},
   "outputs": [],
   "source": [
    "pivoted = dogs_breeds.pivot(\n",
    "    index='animal_id', \n",
    "    columns='breed_num', \n",
    "    values=[\n",
    "    'breed_match', \n",
    "    'breed', \n",
    "    'description',\n",
    "    'group', \n",
    "    'temperament',\n",
    "    'avg_height',\n",
    "    'avg_weight',\n",
    "    'avg_expectancy',\n",
    "    'grooming_frequency_value',\n",
    "    'shedding_value',\n",
    "    'energy_level_value',\n",
    "    'trainability_value',\n",
    "    'demeanor_value'\n",
    "    ]).reset_index()"
   ]
  },
  {
   "cell_type": "markdown",
   "id": "4375588a-d041-47d6-b52f-8b0413e52a24",
   "metadata": {},
   "source": [
    "#### Step 3: \"Mix\" breeds ####\n",
    "Taking the mean of all numerical columns:"
   ]
  },
  {
   "cell_type": "code",
   "execution_count": 2010,
   "id": "47132ed2-0d54-4a9a-87bd-73e1522efe8d",
   "metadata": {},
   "outputs": [],
   "source": [
    "numerical_cols= [\n",
    "    'avg_height',\n",
    "    'avg_weight',\n",
    "    'avg_expectancy',\n",
    "    'grooming_frequency_value',\n",
    "    'shedding_value',\n",
    "    'energy_level_value',\n",
    "    'trainability_value',\n",
    "    'demeanor_value']"
   ]
  },
  {
   "cell_type": "code",
   "execution_count": 2011,
   "id": "1c19b582-14b4-4612-a325-a919be5ec73b",
   "metadata": {},
   "outputs": [],
   "source": [
    "for col in numerical_cols:\n",
    "    pivoted[col + '_mixed'] =  pivoted[col].mean(axis = 1)"
   ]
  },
  {
   "cell_type": "code",
   "execution_count": 2012,
   "id": "f01e0d7a-8f88-4822-9730-393f48d4ed8b",
   "metadata": {},
   "outputs": [],
   "source": [
    "cols = [col + (('_' + str(num))if str(num) else '') for col, num in pivoted.columns]"
   ]
  },
  {
   "cell_type": "code",
   "execution_count": 2013,
   "id": "418f4315-c4c3-4f59-88ad-2049f1650503",
   "metadata": {},
   "outputs": [],
   "source": [
    "pivoted.columns = cols"
   ]
  },
  {
   "cell_type": "code",
   "execution_count": 2014,
   "id": "b6eb8ddd-d2a9-4471-b893-d650d2741594",
   "metadata": {},
   "outputs": [],
   "source": [
    "more_useless_cols_re = [r'_value_[0-9]$', '^avg_.*_[0-9]$']\n",
    "cols_to_remove = get_cols_to_remove(more_useless_cols_re, pivoted)\n",
    "\n",
    "pivoted = pivoted.drop(cols_to_remove, axis = 1)"
   ]
  },
  {
   "cell_type": "markdown",
   "id": "6b13b83d-0879-4f78-a340-827a9a52bdc5",
   "metadata": {},
   "source": [
    "### Fixing categorical and string cols: ####"
   ]
  },
  {
   "cell_type": "markdown",
   "id": "7b8a0ca7-1eaa-4164-b6e3-ff6a6018c8e4",
   "metadata": {},
   "source": [
    "#### Fix temperament: ####\n",
    "Temperament is usually a string of three traits separated by a column. For the \"mix\" I take the set of those traits."
   ]
  },
  {
   "cell_type": "code",
   "execution_count": 2015,
   "id": "a10565a3-37e6-415e-87f9-ee6410482374",
   "metadata": {},
   "outputs": [],
   "source": [
    "def join_vals(temperaments):\n",
    "    str1 = temperaments['temperament_0']\n",
    "    str2 = temperaments['temperament_1']\n",
    "    str1 = str1 if not pd.isnull(str1) else ''\n",
    "    str2 = str2 if not pd.isnull(str2) else ''\n",
    "    return str1 + (', ' + str2 if str2 else '')"
   ]
  },
  {
   "cell_type": "code",
   "execution_count": 2016,
   "id": "f471a6be-a9e2-41fa-8bef-c3c4d9c2f8fa",
   "metadata": {},
   "outputs": [],
   "source": [
    "pivoted['temperament'] = pivoted[['temperament_0', 'temperament_1']].agg(join_vals, axis = 1).str.lower()"
   ]
  },
  {
   "cell_type": "code",
   "execution_count": 2017,
   "id": "7ddc54db-79aa-4c8e-aeab-c5787630bdb2",
   "metadata": {},
   "outputs": [],
   "source": [
    "pivoted = pivoted.drop(['temperament_0', 'temperament_1'], axis = 1)"
   ]
  },
  {
   "cell_type": "code",
   "execution_count": 2018,
   "id": "eb4ecc46-ad6d-4374-9a2f-18dec1648166",
   "metadata": {},
   "outputs": [
    {
     "data": {
      "text/html": [
       "<div>\n",
       "<style scoped>\n",
       "    .dataframe tbody tr th:only-of-type {\n",
       "        vertical-align: middle;\n",
       "    }\n",
       "\n",
       "    .dataframe tbody tr th {\n",
       "        vertical-align: top;\n",
       "    }\n",
       "\n",
       "    .dataframe thead th {\n",
       "        text-align: right;\n",
       "    }\n",
       "</style>\n",
       "<table border=\"1\" class=\"dataframe\">\n",
       "  <thead>\n",
       "    <tr style=\"text-align: right;\">\n",
       "      <th></th>\n",
       "      <th>animal_id</th>\n",
       "      <th>breed_match_0</th>\n",
       "      <th>breed_match_1</th>\n",
       "      <th>breed_0</th>\n",
       "      <th>breed_1</th>\n",
       "      <th>description_0</th>\n",
       "      <th>description_1</th>\n",
       "      <th>group_0</th>\n",
       "      <th>group_1</th>\n",
       "      <th>avg_height_mixed</th>\n",
       "      <th>avg_weight_mixed</th>\n",
       "      <th>avg_expectancy_mixed</th>\n",
       "      <th>grooming_frequency_value_mixed</th>\n",
       "      <th>shedding_value_mixed</th>\n",
       "      <th>energy_level_value_mixed</th>\n",
       "      <th>trainability_value_mixed</th>\n",
       "      <th>demeanor_value_mixed</th>\n",
       "      <th>temperament</th>\n",
       "    </tr>\n",
       "  </thead>\n",
       "  <tbody>\n",
       "    <tr>\n",
       "      <th>0</th>\n",
       "      <td>A006100</td>\n",
       "      <td>Spinone Italiano</td>\n",
       "      <td>NaN</td>\n",
       "      <td>Spinone Italiano</td>\n",
       "      <td>NaN</td>\n",
       "      <td>The Spinone Italiano (plural: Spinoni Italiani...</td>\n",
       "      <td>NaN</td>\n",
       "      <td>Sporting Group</td>\n",
       "      <td>NaN</td>\n",
       "      <td>55.88</td>\n",
       "      <td>NaN</td>\n",
       "      <td>11.0</td>\n",
       "      <td>0.4</td>\n",
       "      <td>NaN</td>\n",
       "      <td>0.8</td>\n",
       "      <td>0.6</td>\n",
       "      <td>0.6</td>\n",
       "      <td>sociable, patient, docile</td>\n",
       "    </tr>\n",
       "    <tr>\n",
       "      <th>1</th>\n",
       "      <td>A047759</td>\n",
       "      <td>Dachshund</td>\n",
       "      <td>NaN</td>\n",
       "      <td>Dachshund</td>\n",
       "      <td>NaN</td>\n",
       "      <td>The word “icon” is terribly overworked, but th...</td>\n",
       "      <td>NaN</td>\n",
       "      <td>Hound Group</td>\n",
       "      <td>NaN</td>\n",
       "      <td>12.70</td>\n",
       "      <td>9.752236</td>\n",
       "      <td>14.0</td>\n",
       "      <td>0.4</td>\n",
       "      <td>0.4</td>\n",
       "      <td>0.6</td>\n",
       "      <td>0.6</td>\n",
       "      <td>0.6</td>\n",
       "      <td>friendly, curious, spunky</td>\n",
       "    </tr>\n",
       "    <tr>\n",
       "      <th>2</th>\n",
       "      <td>A134067</td>\n",
       "      <td>Shetland Sheepdog</td>\n",
       "      <td>NaN</td>\n",
       "      <td>Shetland Sheepdog</td>\n",
       "      <td>NaN</td>\n",
       "      <td>The Shetland Sheepdog is a small, active, and ...</td>\n",
       "      <td>NaN</td>\n",
       "      <td>Herding Group</td>\n",
       "      <td>NaN</td>\n",
       "      <td>33.02</td>\n",
       "      <td>9.071847</td>\n",
       "      <td>13.0</td>\n",
       "      <td>0.6</td>\n",
       "      <td>0.6</td>\n",
       "      <td>0.6</td>\n",
       "      <td>1.0</td>\n",
       "      <td>0.4</td>\n",
       "      <td>playful, energetic, bright</td>\n",
       "    </tr>\n",
       "  </tbody>\n",
       "</table>\n",
       "</div>"
      ],
      "text/plain": [
       "  animal_id      breed_match_0 breed_match_1            breed_0 breed_1  \\\n",
       "0   A006100   Spinone Italiano           NaN   Spinone Italiano     NaN   \n",
       "1   A047759          Dachshund           NaN          Dachshund     NaN   \n",
       "2   A134067  Shetland Sheepdog           NaN  Shetland Sheepdog     NaN   \n",
       "\n",
       "                                       description_0 description_1  \\\n",
       "0  The Spinone Italiano (plural: Spinoni Italiani...           NaN   \n",
       "1  The word “icon” is terribly overworked, but th...           NaN   \n",
       "2  The Shetland Sheepdog is a small, active, and ...           NaN   \n",
       "\n",
       "          group_0 group_1  avg_height_mixed  avg_weight_mixed  \\\n",
       "0  Sporting Group     NaN             55.88               NaN   \n",
       "1     Hound Group     NaN             12.70          9.752236   \n",
       "2   Herding Group     NaN             33.02          9.071847   \n",
       "\n",
       "   avg_expectancy_mixed  grooming_frequency_value_mixed  shedding_value_mixed  \\\n",
       "0                  11.0                             0.4                   NaN   \n",
       "1                  14.0                             0.4                   0.4   \n",
       "2                  13.0                             0.6                   0.6   \n",
       "\n",
       "   energy_level_value_mixed  trainability_value_mixed  demeanor_value_mixed  \\\n",
       "0                       0.8                       0.6                   0.6   \n",
       "1                       0.6                       0.6                   0.6   \n",
       "2                       0.6                       1.0                   0.4   \n",
       "\n",
       "                  temperament  \n",
       "0   sociable, patient, docile  \n",
       "1   friendly, curious, spunky  \n",
       "2  playful, energetic, bright  "
      ]
     },
     "execution_count": 2018,
     "metadata": {},
     "output_type": "execute_result"
    }
   ],
   "source": [
    "pivoted.head(3)"
   ]
  },
  {
   "cell_type": "markdown",
   "id": "557d8d89-a93b-4f52-9bfc-4c8786a33474",
   "metadata": {},
   "source": [
    "#### Fix Group: ####\n",
    "Group is a categorical feature. If the two groups are not the same, I assign 'Miscellaneous Class'"
   ]
  },
  {
   "cell_type": "code",
   "execution_count": 2019,
   "id": "318aa91f-150b-4747-af58-8a3f81176fa1",
   "metadata": {},
   "outputs": [
    {
     "data": {
      "text/plain": [
       "NaN                         32741\n",
       "Sporting Group               1055\n",
       "Toy Group                     989\n",
       "Herding Group                 963\n",
       "Hound Group                   834\n",
       "Terrier Group                 717\n",
       "Non-Sporting Group            700\n",
       "Working Group                 649\n",
       "Foundation Stock Service      236\n",
       "Miscellaneous Class            24\n",
       "Name: group_1, dtype: int64"
      ]
     },
     "execution_count": 2019,
     "metadata": {},
     "output_type": "execute_result"
    }
   ],
   "source": [
    "pivoted.group_1.value_counts(dropna = False)"
   ]
  },
  {
   "cell_type": "code",
   "execution_count": 2020,
   "id": "55cdea7d-4329-4ee1-94f2-211c8a53ce52",
   "metadata": {},
   "outputs": [],
   "source": [
    "mismatched_idxs = np.array((pivoted['group_0'] != pivoted['group_1']) & ~pd.isnull(pivoted['group_1']))"
   ]
  },
  {
   "cell_type": "code",
   "execution_count": 2021,
   "id": "46c5081b-81b2-4048-8c02-88e93964ef34",
   "metadata": {},
   "outputs": [],
   "source": [
    "pivoted.loc[mismatched_idxs, 'group_0'] = pivoted.loc[mismatched_idxs].apply(\n",
    "        lambda row: row['group_0'] + '/' + row['group_1'], axis = 1)"
   ]
  },
  {
   "cell_type": "code",
   "execution_count": 2023,
   "id": "dd50162f-ee05-46c5-ae81-6a57777bd147",
   "metadata": {},
   "outputs": [],
   "source": [
    "pivoted = pivoted.drop(columns = ['group_1'])\n",
    "pivoted = pivoted.rename({'group_0': 'group'}, axis = 1)"
   ]
  },
  {
   "cell_type": "code",
   "execution_count": 2024,
   "id": "eb107c00-f992-4b25-9ce7-d6654e31daeb",
   "metadata": {},
   "outputs": [
    {
     "data": {
      "text/plain": [
       "animal_id                          object\n",
       "breed_match_0                      object\n",
       "breed_match_1                      object\n",
       "breed_0                            object\n",
       "breed_1                            object\n",
       "description_0                      object\n",
       "description_1                      object\n",
       "group                              object\n",
       "avg_height_mixed                  float64\n",
       "avg_weight_mixed                  float64\n",
       "avg_expectancy_mixed              float64\n",
       "grooming_frequency_value_mixed    float64\n",
       "shedding_value_mixed              float64\n",
       "energy_level_value_mixed          float64\n",
       "trainability_value_mixed          float64\n",
       "demeanor_value_mixed              float64\n",
       "temperament                        object\n",
       "dtype: object"
      ]
     },
     "execution_count": 2024,
     "metadata": {},
     "output_type": "execute_result"
    }
   ],
   "source": [
    "pivoted.dtypes"
   ]
  },
  {
   "cell_type": "code",
   "execution_count": 1889,
   "id": "f1e91c8a-43ad-4194-9c8c-2e07b967510c",
   "metadata": {},
   "outputs": [],
   "source": [
    "def combine_groups(row):\n",
    "    gr0 = row.group_0\n",
    "    gr1 = row.group_1\n",
    "    if pd.isnull(gr0) and pd.isnull(gr1):\n",
    "            return 'Miscellaneous Class'\n",
    "    return '/'.join(sorted([(gr0 or ''),(gr1 or '')]))"
   ]
  },
  {
   "cell_type": "code",
   "execution_count": 1891,
   "id": "a57c39a9-8f1a-4f54-a093-3f1dda9cf4f6",
   "metadata": {},
   "outputs": [
    {
     "data": {
      "text/plain": [
       "Toy Group                                       7273\n",
       "Sporting Group                                  5498\n",
       "Terrier Group                                   5263\n",
       "Herding Group                                   4557\n",
       "Working Group                                   3678\n",
       "Non-Sporting Group                              3024\n",
       "Hound Group                                     2476\n",
       "Foundation Stock Service                        1907\n",
       "Herding Group/Sporting Group                     649\n",
       "Hound Group/Toy Group                            553\n",
       "Terrier Group/Toy Group                          465\n",
       "Sporting Group/Working Group                     387\n",
       "Herding Group/Working Group                      321\n",
       "Non-Sporting Group/Sporting Group                296\n",
       "Hound Group/Sporting Group                       280\n",
       "Sporting Group/Terrier Group                     228\n",
       "Non-Sporting Group/Toy Group                     214\n",
       "Non-Sporting Group/Terrier Group                 181\n",
       "Miscellaneous Class                              174\n",
       "Herding Group/Hound Group                        151\n",
       "Hound Group/Terrier Group                        150\n",
       "Foundation Stock Service/Sporting Group          124\n",
       "Herding Group/Non-Sporting Group                 117\n",
       "Herding Group/Terrier Group                      113\n",
       "Herding Group/Toy Group                           93\n",
       "Non-Sporting Group/Working Group                  83\n",
       "Terrier Group/Working Group                       82\n",
       "Foundation Stock Service/Working Group            82\n",
       "Foundation Stock Service/Herding Group            76\n",
       "Hound Group/Non-Sporting Group                    71\n",
       "Hound Group/Working Group                         65\n",
       "Foundation Stock Service/Hound Group              59\n",
       "Foundation Stock Service/Terrier Group            53\n",
       "Foundation Stock Service/Non-Sporting Group       48\n",
       "Sporting Group/Toy Group                          44\n",
       "Foundation Stock Service/Toy Group                17\n",
       "Miscellaneous Class/Sporting Group                12\n",
       "Miscellaneous Class/Working Group                 11\n",
       "Herding Group/Miscellaneous Class                 11\n",
       "Hound Group/Miscellaneous Class                    6\n",
       "Miscellaneous Class/Terrier Group                  5\n",
       "Miscellaneous Class/Toy Group                      5\n",
       "Toy Group/Working Group                            4\n",
       "Miscellaneous Class/Non-Sporting Group             1\n",
       "Foundation Stock Service/Miscellaneous Class       1\n",
       "dtype: int64"
      ]
     },
     "execution_count": 1891,
     "metadata": {},
     "output_type": "execute_result"
    }
   ],
   "source": [
    "pivoted.group_1 = pivoted.group_1.fillna(pivoted.group_0)\n",
    "pivoted.apply(lambda row: row.group_0 if row.group_0 == row.group_1 else combine_groups(row), axis = 1).value_counts()"
   ]
  },
  {
   "cell_type": "code",
   "execution_count": null,
   "id": "f4c3f7e4-22cd-48e1-91ea-f6877ad51732",
   "metadata": {},
   "outputs": [],
   "source": [
    "pivoted.group"
   ]
  },
  {
   "cell_type": "code",
   "execution_count": 959,
   "id": "d5e26996-ee16-49a7-9806-3cada874d0e1",
   "metadata": {},
   "outputs": [],
   "source": [
    "pivoted = pivoted.drop(['group_0', 'group_1'], axis = 1)"
   ]
  },
  {
   "cell_type": "markdown",
   "id": "3ca0717e-b2b6-449a-835a-88c5cda00c2d",
   "metadata": {},
   "source": [
    "## 5. Getting one dog per row ##\n",
    "Merging pivoted with dog_breeds on animal_id so I can get each dog's shelter history and breed information.<br>\n",
    "\n",
    "At this point from 'dogs_breeds' I only need the shelter history data, which repeats on rows withthe same animal_id. That will allow me to join it on the right of 'pivoted'."
   ]
  },
  {
   "cell_type": "code",
   "execution_count": 2025,
   "id": "34300496-d52d-427a-b918-cef696dc1aa6",
   "metadata": {},
   "outputs": [],
   "source": [
    "right = dogs_breeds[[\n",
    "        'animal_id', \n",
    "        'date_of_birth', \n",
    "        'intake_type', \n",
    "        'intake_condition', \n",
    "        'age_intake', \n",
    "        'intake_datetime', \n",
    "        'intake_weekday',\n",
    "        'color', \n",
    "        'outcome_subtype',\n",
    "        'outcome_type',\n",
    "        'outcome_datetime', \n",
    "        'outcome_weekday', \n",
    "        'stays_count',\n",
    "        'total_time_in_shelter',\n",
    "        'sex_upon_intake'\n",
    "]]"
   ]
  },
  {
   "cell_type": "code",
   "execution_count": 2026,
   "id": "76e061ef-2206-4a5c-ade3-931baff4cb0b",
   "metadata": {},
   "outputs": [],
   "source": [
    "mixed_dogs = pd.merge(pivoted, right, how = 'left', on = 'animal_id')"
   ]
  },
  {
   "cell_type": "code",
   "execution_count": 2027,
   "id": "50e325a7-6819-4604-8a2d-e1ec1ac614ac",
   "metadata": {},
   "outputs": [],
   "source": [
    "mixed_dogs = mixed_dogs.drop(['breed_0', 'breed_1'], axis = 1)\n",
    "mixed_dogs = mixed_dogs.rename({'breed_match_0': 'breed_0', 'breed_match_1': 'breed_1'}, axis = 1)"
   ]
  },
  {
   "cell_type": "markdown",
   "id": "fbcb908c-3fff-4bbf-8587-e4166d1e46a0",
   "metadata": {},
   "source": [
    "## Exploration ##"
   ]
  },
  {
   "cell_type": "code",
   "execution_count": 964,
   "id": "4a595aa7-223b-4d90-868c-79996baaf8dc",
   "metadata": {},
   "outputs": [],
   "source": [
    "breed_counts = mixed_dogs.breed_0.value_counts().to_dict()"
   ]
  },
  {
   "cell_type": "code",
   "execution_count": 967,
   "id": "bd79b299-72b5-4ddc-bd8a-58a54e2fd4cc",
   "metadata": {},
   "outputs": [],
   "source": [
    "def plot_barchart(feature, xlabel, ylabel, title):\n",
    "    feature_counts = mixed_dogs[feature].value_counts()\n",
    "    plt.bar(feature_counts.keys(), feature_counts.values)\n",
    "    plt.xticks(rotation = 80)\n",
    "    plt.xlabel(xlabel)\n",
    "    plt.ylabel(ylabel)\n",
    "    plt.title(title)\n",
    "    plt.show()\n",
    "\n",
    "def plot_hist(values, xlabel, ylabel, title, bins = 10, show = True):\n",
    "    plt.hist(values, bins = bins)\n",
    "    plt.xticks(rotation = 80)\n",
    "    plt.xlabel(xlabel)\n",
    "    plt.ylabel(ylabel)\n",
    "    plt.title(title)\n",
    "    if show:\n",
    "        plt.show()"
   ]
  },
  {
   "cell_type": "code",
   "execution_count": 968,
   "id": "875288fb-d85b-497a-b399-c9cca4a98567",
   "metadata": {},
   "outputs": [
    {
     "data": {
      "image/png": "[encoded data removed]",
      "text/plain": [
       "<Figure size 640x480 with 1 Axes>"
      ]
     },
     "metadata": {},
     "output_type": "display_data"
    }
   ],
   "source": [
    "plot_barchart('outcome_type', 'Outcome Type', 'Amount of Dogs', 'Dogs by outcome type')"
   ]
  },
  {
   "cell_type": "code",
   "execution_count": 970,
   "id": "c43344a5-4893-49a7-ab56-fb7afa7f768a",
   "metadata": {},
   "outputs": [
    {
     "data": {
      "image/png": "[encoded data removed]",
      "text/plain": [
       "<Figure size 640x480 with 1 Axes>"
      ]
     },
     "metadata": {},
     "output_type": "display_data"
    }
   ],
   "source": [
    "plot_barchart('Age at outcome', 'Amount of Dogs', 'Dogs by Age at Outcome')"
   ]
  },
  {
   "cell_type": "code",
   "execution_count": 971,
   "id": "51cdb541-a998-4665-9485-6e1d4b34691c",
   "metadata": {},
   "outputs": [
    {
     "data": {
      "image/png": "[encoded data removed]",
      "text/plain": [
       "<Figure size 640x480 with 1 Axes>"
      ]
     },
     "metadata": {},
     "output_type": "display_data"
    }
   ],
   "source": [
    "plot_hist(mixed_dogs.total_time_in_shelter.dt.days, 'Days in shelter', 'Dogs', 'Dogs by Time Spent in Shelter')"
   ]
  },
  {
   "cell_type": "code",
   "execution_count": 972,
   "id": "2a015ee7-34fe-4075-9c18-e9c3d7d5ea30",
   "metadata": {},
   "outputs": [
    {
     "data": {
      "text/plain": [
       "18.24740987243483"
      ]
     },
     "execution_count": 972,
     "metadata": {},
     "output_type": "execute_result"
    }
   ],
   "source": [
    "mixed_dogs.total_time_in_shelter.dt.days.mean()"
   ]
  },
  {
   "cell_type": "code",
   "execution_count": 973,
   "id": "7fb74879-c14c-4f1d-a610-462ae88b12ef",
   "metadata": {},
   "outputs": [
    {
     "data": {
      "image/png": "[encoded data removed]",
      "text/plain": [
       "<Figure size 640x480 with 1 Axes>"
      ]
     },
     "metadata": {},
     "output_type": "display_data"
    }
   ],
   "source": [
    "total_time_cut = mixed_dogs.loc[mixed_dogs.total_time_in_shelter.dt.days < 150, 'total_time_in_shelter'].dt.days\n",
    "plot_hist(total_time_cut, 'Days in shelter', 'Dogs', 'Dogs by Time Spent in Shelter (for days < 150)', bins = 30, show = False)\n",
    "plt.vlines(13, 0, 20000, color = 'red', linestyles = 'dotted', label = 'Mean of shelter time < 150 days')\n",
    "plt.vlines(18, 0, 20000, color = 'green', linestyles = 'dotted', label = 'Mean of all shelter times')\n",
    "plt.vlines(10, 0, 20000, color = 'orange', linestyles = 'dotted', label = 'Category separator')\n",
    "plt.legend()\n",
    "plt.show()"
   ]
  },
  {
   "cell_type": "code",
   "execution_count": 974,
   "id": "5bc94418-cb9c-4043-a9ec-72b279505e3d",
   "metadata": {},
   "outputs": [
    {
     "data": {
      "text/plain": [
       "Adoption           20982\n",
       "Return to Owner    12248\n",
       "Transfer           10075\n",
       "Euthanasia          1468\n",
       "Died                 150\n",
       "Rto-Adopt            125\n",
       "Missing               16\n",
       "Disposal              10\n",
       "Name: outcome_type, dtype: int64"
      ]
     },
     "execution_count": 974,
     "metadata": {},
     "output_type": "execute_result"
    }
   ],
   "source": [
    "mixed_dogs.outcome_type.value_counts()"
   ]
  },
  {
   "cell_type": "code",
   "execution_count": 2349,
   "id": "8d525dc8-123f-487b-9567-5da84d33cb16",
   "metadata": {},
   "outputs": [],
   "source": [
    "adopted = mixed_dogs.loc[mixed_dogs.outcome_type.isin(['Adoption', 'Rto-Adopt'])].copy()"
   ]
  },
  {
   "cell_type": "code",
   "execution_count": 976,
   "id": "3265fc8f-b29a-43f0-afac-d1604584df7d",
   "metadata": {},
   "outputs": [
    {
     "data": {
      "text/plain": [
       "(20982, 29)"
      ]
     },
     "execution_count": 976,
     "metadata": {},
     "output_type": "execute_result"
    }
   ],
   "source": [
    "adopted.shape"
   ]
  },
  {
   "cell_type": "code",
   "execution_count": 2350,
   "id": "6e6c5c7a-0bd8-4ab2-99f9-f34a3d06f446",
   "metadata": {},
   "outputs": [
    {
     "data": {
      "image/png": "[encoded data removed]",
      "text/plain": [
       "<Figure size 640x480 with 1 Axes>"
      ]
     },
     "metadata": {},
     "output_type": "display_data"
    }
   ],
   "source": [
    "total_time_cut = adopted.loc[adopted.total_time_in_shelter.dt.days < 150, 'total_time_in_shelter'].dt.days\n",
    "plot_hist(total_time_cut, 'Days in shelter', 'Dogs', 'Dogs by Time Spent in Shelter (for days < 150)', bins = 30, show = False)\n",
    "plt.vlines(total_time_cut.mean(), 0, 6000, color = 'red', linestyles = 'dotted', label = 'Mean of shelter time < 150 days')\n",
    "plt.vlines(18, 0, 6000, color = 'green', linestyles = 'dotted', label = 'Mean of all shelter times')\n",
    "plt.vlines(10, 0, 6000, color = 'orange', linestyles = 'dotted', label = 'Category separator')\n",
    "plt.legend()\n",
    "plt.show()"
   ]
  },
  {
   "cell_type": "code",
   "execution_count": 2351,
   "id": "e60304c8-3095-4e0a-affa-c31e986f23cc",
   "metadata": {},
   "outputs": [
    {
     "data": {
      "text/plain": [
       "19.35542521994135"
      ]
     },
     "execution_count": 2351,
     "metadata": {},
     "output_type": "execute_result"
    }
   ],
   "source": [
    "total_time_cut.mean()"
   ]
  },
  {
   "cell_type": "code",
   "execution_count": 2352,
   "id": "e0fd59a0-f7cc-46f9-95cc-7c991023c90b",
   "metadata": {},
   "outputs": [],
   "source": [
    "adopted['days_in_shelter'] = adopted.total_time_in_shelter.dt.days"
   ]
  },
  {
   "cell_type": "code",
   "execution_count": 2353,
   "id": "e7aa62ee-2e57-45a3-9685-63bba63f511f",
   "metadata": {},
   "outputs": [
    {
     "data": {
      "text/plain": [
       "Timedelta('8 days 01:17:00')"
      ]
     },
     "execution_count": 2353,
     "metadata": {},
     "output_type": "execute_result"
    }
   ],
   "source": [
    "adopted.total_time_in_shelter.median()"
   ]
  },
  {
   "cell_type": "code",
   "execution_count": 2354,
   "id": "4938f774-18b2-4253-b4c0-f195bfbf06d2",
   "metadata": {},
   "outputs": [],
   "source": [
    "adopted['adopted_class'] = [1 if days < 8 else 0 for days in adopted.days_in_shelter]"
   ]
  },
  {
   "cell_type": "code",
   "execution_count": 982,
   "id": "d102592a-9ce2-4586-be39-5ed0c1671e04",
   "metadata": {},
   "outputs": [
    {
     "data": {
      "text/plain": [
       "0    10607\n",
       "1    10375\n",
       "Name: adopted_class, dtype: int64"
      ]
     },
     "execution_count": 982,
     "metadata": {},
     "output_type": "execute_result"
    }
   ],
   "source": [
    "adopted.adopted_class.value_counts()"
   ]
  },
  {
   "cell_type": "code",
   "execution_count": 983,
   "id": "578f9901-5d51-4955-ab3e-5d6ce2f2df23",
   "metadata": {},
   "outputs": [
    {
     "data": {
      "text/html": [
       "<div>\n",
       "<style scoped>\n",
       "    .dataframe tbody tr th:only-of-type {\n",
       "        vertical-align: middle;\n",
       "    }\n",
       "\n",
       "    .dataframe tbody tr th {\n",
       "        vertical-align: top;\n",
       "    }\n",
       "\n",
       "    .dataframe thead th {\n",
       "        text-align: right;\n",
       "    }\n",
       "</style>\n",
       "<table border=\"1\" class=\"dataframe\">\n",
       "  <thead>\n",
       "    <tr style=\"text-align: right;\">\n",
       "      <th></th>\n",
       "      <th>avg_height_final</th>\n",
       "      <th>avg_weight_final</th>\n",
       "      <th>avg_expectancy_final</th>\n",
       "      <th>grooming_frequency_value_final</th>\n",
       "      <th>shedding_value_final</th>\n",
       "      <th>energy_level_value_final</th>\n",
       "      <th>trainability_value_final</th>\n",
       "      <th>demeanor_value_final</th>\n",
       "      <th>age_intake</th>\n",
       "      <th>stays_count</th>\n",
       "      <th>age_outcome</th>\n",
       "      <th>days_in_shelter</th>\n",
       "      <th>adopted_class</th>\n",
       "    </tr>\n",
       "  </thead>\n",
       "  <tbody>\n",
       "    <tr>\n",
       "      <th>avg_height_final</th>\n",
       "      <td>1.000000</td>\n",
       "      <td>0.944124</td>\n",
       "      <td>-0.789406</td>\n",
       "      <td>0.238323</td>\n",
       "      <td>0.607297</td>\n",
       "      <td>0.538470</td>\n",
       "      <td>0.460103</td>\n",
       "      <td>0.133118</td>\n",
       "      <td>-0.125580</td>\n",
       "      <td>0.065645</td>\n",
       "      <td>-0.129142</td>\n",
       "      <td>0.165027</td>\n",
       "      <td>-0.148576</td>\n",
       "    </tr>\n",
       "    <tr>\n",
       "      <th>avg_weight_final</th>\n",
       "      <td>0.944124</td>\n",
       "      <td>1.000000</td>\n",
       "      <td>-0.833036</td>\n",
       "      <td>0.188808</td>\n",
       "      <td>0.658173</td>\n",
       "      <td>0.497083</td>\n",
       "      <td>0.445865</td>\n",
       "      <td>0.087107</td>\n",
       "      <td>-0.120399</td>\n",
       "      <td>0.068979</td>\n",
       "      <td>-0.123252</td>\n",
       "      <td>0.187404</td>\n",
       "      <td>-0.167401</td>\n",
       "    </tr>\n",
       "    <tr>\n",
       "      <th>avg_expectancy_final</th>\n",
       "      <td>-0.789406</td>\n",
       "      <td>-0.833036</td>\n",
       "      <td>1.000000</td>\n",
       "      <td>-0.284595</td>\n",
       "      <td>-0.648563</td>\n",
       "      <td>-0.334820</td>\n",
       "      <td>-0.491904</td>\n",
       "      <td>-0.268909</td>\n",
       "      <td>0.065436</td>\n",
       "      <td>-0.070529</td>\n",
       "      <td>0.069221</td>\n",
       "      <td>-0.187738</td>\n",
       "      <td>0.166387</td>\n",
       "    </tr>\n",
       "    <tr>\n",
       "      <th>grooming_frequency_value_final</th>\n",
       "      <td>0.238323</td>\n",
       "      <td>0.188808</td>\n",
       "      <td>-0.284595</td>\n",
       "      <td>1.000000</td>\n",
       "      <td>0.091191</td>\n",
       "      <td>0.112367</td>\n",
       "      <td>0.433688</td>\n",
       "      <td>0.380942</td>\n",
       "      <td>0.000712</td>\n",
       "      <td>0.003781</td>\n",
       "      <td>0.001693</td>\n",
       "      <td>-0.077690</td>\n",
       "      <td>0.068160</td>\n",
       "    </tr>\n",
       "    <tr>\n",
       "      <th>shedding_value_final</th>\n",
       "      <td>0.607297</td>\n",
       "      <td>0.658173</td>\n",
       "      <td>-0.648563</td>\n",
       "      <td>0.091191</td>\n",
       "      <td>1.000000</td>\n",
       "      <td>0.477268</td>\n",
       "      <td>0.484660</td>\n",
       "      <td>0.178696</td>\n",
       "      <td>-0.119342</td>\n",
       "      <td>0.041266</td>\n",
       "      <td>-0.122319</td>\n",
       "      <td>0.146961</td>\n",
       "      <td>-0.131637</td>\n",
       "    </tr>\n",
       "    <tr>\n",
       "      <th>energy_level_value_final</th>\n",
       "      <td>0.538470</td>\n",
       "      <td>0.497083</td>\n",
       "      <td>-0.334820</td>\n",
       "      <td>0.112367</td>\n",
       "      <td>0.477268</td>\n",
       "      <td>1.000000</td>\n",
       "      <td>0.294152</td>\n",
       "      <td>0.253559</td>\n",
       "      <td>-0.139178</td>\n",
       "      <td>0.025732</td>\n",
       "      <td>-0.139832</td>\n",
       "      <td>0.112852</td>\n",
       "      <td>-0.107023</td>\n",
       "    </tr>\n",
       "    <tr>\n",
       "      <th>trainability_value_final</th>\n",
       "      <td>0.460103</td>\n",
       "      <td>0.445865</td>\n",
       "      <td>-0.491904</td>\n",
       "      <td>0.433688</td>\n",
       "      <td>0.484660</td>\n",
       "      <td>0.294152</td>\n",
       "      <td>1.000000</td>\n",
       "      <td>0.421761</td>\n",
       "      <td>-0.091376</td>\n",
       "      <td>0.010312</td>\n",
       "      <td>-0.096163</td>\n",
       "      <td>0.008379</td>\n",
       "      <td>-0.011040</td>\n",
       "    </tr>\n",
       "    <tr>\n",
       "      <th>demeanor_value_final</th>\n",
       "      <td>0.133118</td>\n",
       "      <td>0.087107</td>\n",
       "      <td>-0.268909</td>\n",
       "      <td>0.380942</td>\n",
       "      <td>0.178696</td>\n",
       "      <td>0.253559</td>\n",
       "      <td>0.421761</td>\n",
       "      <td>1.000000</td>\n",
       "      <td>-0.021975</td>\n",
       "      <td>0.011621</td>\n",
       "      <td>-0.023588</td>\n",
       "      <td>0.017867</td>\n",
       "      <td>-0.014388</td>\n",
       "    </tr>\n",
       "    <tr>\n",
       "      <th>age_intake</th>\n",
       "      <td>-0.125580</td>\n",
       "      <td>-0.120399</td>\n",
       "      <td>0.065436</td>\n",
       "      <td>0.000712</td>\n",
       "      <td>-0.119342</td>\n",
       "      <td>-0.139178</td>\n",
       "      <td>-0.091376</td>\n",
       "      <td>-0.021975</td>\n",
       "      <td>1.000000</td>\n",
       "      <td>0.167569</td>\n",
       "      <td>0.958998</td>\n",
       "      <td>0.263713</td>\n",
       "      <td>-0.245890</td>\n",
       "    </tr>\n",
       "    <tr>\n",
       "      <th>stays_count</th>\n",
       "      <td>0.065645</td>\n",
       "      <td>0.068979</td>\n",
       "      <td>-0.070529</td>\n",
       "      <td>0.003781</td>\n",
       "      <td>0.041266</td>\n",
       "      <td>0.025732</td>\n",
       "      <td>0.010312</td>\n",
       "      <td>0.011621</td>\n",
       "      <td>0.167569</td>\n",
       "      <td>1.000000</td>\n",
       "      <td>0.052299</td>\n",
       "      <td>0.265172</td>\n",
       "      <td>-0.251439</td>\n",
       "    </tr>\n",
       "    <tr>\n",
       "      <th>age_outcome</th>\n",
       "      <td>-0.129142</td>\n",
       "      <td>-0.123252</td>\n",
       "      <td>0.069221</td>\n",
       "      <td>0.001693</td>\n",
       "      <td>-0.122319</td>\n",
       "      <td>-0.139832</td>\n",
       "      <td>-0.096163</td>\n",
       "      <td>-0.023588</td>\n",
       "      <td>0.958998</td>\n",
       "      <td>0.052299</td>\n",
       "      <td>1.000000</td>\n",
       "      <td>0.251951</td>\n",
       "      <td>-0.228004</td>\n",
       "    </tr>\n",
       "    <tr>\n",
       "      <th>days_in_shelter</th>\n",
       "      <td>0.165027</td>\n",
       "      <td>0.187404</td>\n",
       "      <td>-0.187738</td>\n",
       "      <td>-0.077690</td>\n",
       "      <td>0.146961</td>\n",
       "      <td>0.112852</td>\n",
       "      <td>0.008379</td>\n",
       "      <td>0.017867</td>\n",
       "      <td>0.263713</td>\n",
       "      <td>0.265172</td>\n",
       "      <td>0.251951</td>\n",
       "      <td>1.000000</td>\n",
       "      <td>-0.869712</td>\n",
       "    </tr>\n",
       "    <tr>\n",
       "      <th>adopted_class</th>\n",
       "      <td>-0.148576</td>\n",
       "      <td>-0.167401</td>\n",
       "      <td>0.166387</td>\n",
       "      <td>0.068160</td>\n",
       "      <td>-0.131637</td>\n",
       "      <td>-0.107023</td>\n",
       "      <td>-0.011040</td>\n",
       "      <td>-0.014388</td>\n",
       "      <td>-0.245890</td>\n",
       "      <td>-0.251439</td>\n",
       "      <td>-0.228004</td>\n",
       "      <td>-0.869712</td>\n",
       "      <td>1.000000</td>\n",
       "    </tr>\n",
       "  </tbody>\n",
       "</table>\n",
       "</div>"
      ],
      "text/plain": [
       "                                avg_height_final  avg_weight_final  \\\n",
       "avg_height_final                        1.000000          0.944124   \n",
       "avg_weight_final                        0.944124          1.000000   \n",
       "avg_expectancy_final                   -0.789406         -0.833036   \n",
       "grooming_frequency_value_final          0.238323          0.188808   \n",
       "shedding_value_final                    0.607297          0.658173   \n",
       "energy_level_value_final                0.538470          0.497083   \n",
       "trainability_value_final                0.460103          0.445865   \n",
       "demeanor_value_final                    0.133118          0.087107   \n",
       "age_intake                             -0.125580         -0.120399   \n",
       "stays_count                             0.065645          0.068979   \n",
       "age_outcome                            -0.129142         -0.123252   \n",
       "days_in_shelter                         0.165027          0.187404   \n",
       "adopted_class                          -0.148576         -0.167401   \n",
       "\n",
       "                                avg_expectancy_final  \\\n",
       "avg_height_final                           -0.789406   \n",
       "avg_weight_final                           -0.833036   \n",
       "avg_expectancy_final                        1.000000   \n",
       "grooming_frequency_value_final             -0.284595   \n",
       "shedding_value_final                       -0.648563   \n",
       "energy_level_value_final                   -0.334820   \n",
       "trainability_value_final                   -0.491904   \n",
       "demeanor_value_final                       -0.268909   \n",
       "age_intake                                  0.065436   \n",
       "stays_count                                -0.070529   \n",
       "age_outcome                                 0.069221   \n",
       "days_in_shelter                            -0.187738   \n",
       "adopted_class                               0.166387   \n",
       "\n",
       "                                grooming_frequency_value_final  \\\n",
       "avg_height_final                                      0.238323   \n",
       "avg_weight_final                                      0.188808   \n",
       "avg_expectancy_final                                 -0.284595   \n",
       "grooming_frequency_value_final                        1.000000   \n",
       "shedding_value_final                                  0.091191   \n",
       "energy_level_value_final                              0.112367   \n",
       "trainability_value_final                              0.433688   \n",
       "demeanor_value_final                                  0.380942   \n",
       "age_intake                                            0.000712   \n",
       "stays_count                                           0.003781   \n",
       "age_outcome                                           0.001693   \n",
       "days_in_shelter                                      -0.077690   \n",
       "adopted_class                                         0.068160   \n",
       "\n",
       "                                shedding_value_final  \\\n",
       "avg_height_final                            0.607297   \n",
       "avg_weight_final                            0.658173   \n",
       "avg_expectancy_final                       -0.648563   \n",
       "grooming_frequency_value_final              0.091191   \n",
       "shedding_value_final                        1.000000   \n",
       "energy_level_value_final                    0.477268   \n",
       "trainability_value_final                    0.484660   \n",
       "demeanor_value_final                        0.178696   \n",
       "age_intake                                 -0.119342   \n",
       "stays_count                                 0.041266   \n",
       "age_outcome                                -0.122319   \n",
       "days_in_shelter                             0.146961   \n",
       "adopted_class                              -0.131637   \n",
       "\n",
       "                                energy_level_value_final  \\\n",
       "avg_height_final                                0.538470   \n",
       "avg_weight_final                                0.497083   \n",
       "avg_expectancy_final                           -0.334820   \n",
       "grooming_frequency_value_final                  0.112367   \n",
       "shedding_value_final                            0.477268   \n",
       "energy_level_value_final                        1.000000   \n",
       "trainability_value_final                        0.294152   \n",
       "demeanor_value_final                            0.253559   \n",
       "age_intake                                     -0.139178   \n",
       "stays_count                                     0.025732   \n",
       "age_outcome                                    -0.139832   \n",
       "days_in_shelter                                 0.112852   \n",
       "adopted_class                                  -0.107023   \n",
       "\n",
       "                                trainability_value_final  \\\n",
       "avg_height_final                                0.460103   \n",
       "avg_weight_final                                0.445865   \n",
       "avg_expectancy_final                           -0.491904   \n",
       "grooming_frequency_value_final                  0.433688   \n",
       "shedding_value_final                            0.484660   \n",
       "energy_level_value_final                        0.294152   \n",
       "trainability_value_final                        1.000000   \n",
       "demeanor_value_final                            0.421761   \n",
       "age_intake                                     -0.091376   \n",
       "stays_count                                     0.010312   \n",
       "age_outcome                                    -0.096163   \n",
       "days_in_shelter                                 0.008379   \n",
       "adopted_class                                  -0.011040   \n",
       "\n",
       "                                demeanor_value_final  age_intake  stays_count  \\\n",
       "avg_height_final                            0.133118   -0.125580     0.065645   \n",
       "avg_weight_final                            0.087107   -0.120399     0.068979   \n",
       "avg_expectancy_final                       -0.268909    0.065436    -0.070529   \n",
       "grooming_frequency_value_final              0.380942    0.000712     0.003781   \n",
       "shedding_value_final                        0.178696   -0.119342     0.041266   \n",
       "energy_level_value_final                    0.253559   -0.139178     0.025732   \n",
       "trainability_value_final                    0.421761   -0.091376     0.010312   \n",
       "demeanor_value_final                        1.000000   -0.021975     0.011621   \n",
       "age_intake                                 -0.021975    1.000000     0.167569   \n",
       "stays_count                                 0.011621    0.167569     1.000000   \n",
       "age_outcome                                -0.023588    0.958998     0.052299   \n",
       "days_in_shelter                             0.017867    0.263713     0.265172   \n",
       "adopted_class                              -0.014388   -0.245890    -0.251439   \n",
       "\n",
       "                                age_outcome  days_in_shelter  adopted_class  \n",
       "avg_height_final                  -0.129142         0.165027      -0.148576  \n",
       "avg_weight_final                  -0.123252         0.187404      -0.167401  \n",
       "avg_expectancy_final               0.069221        -0.187738       0.166387  \n",
       "grooming_frequency_value_final     0.001693        -0.077690       0.068160  \n",
       "shedding_value_final              -0.122319         0.146961      -0.131637  \n",
       "energy_level_value_final          -0.139832         0.112852      -0.107023  \n",
       "trainability_value_final          -0.096163         0.008379      -0.011040  \n",
       "demeanor_value_final              -0.023588         0.017867      -0.014388  \n",
       "age_intake                         0.958998         0.263713      -0.245890  \n",
       "stays_count                        0.052299         0.265172      -0.251439  \n",
       "age_outcome                        1.000000         0.251951      -0.228004  \n",
       "days_in_shelter                    0.251951         1.000000      -0.869712  \n",
       "adopted_class                     -0.228004        -0.869712       1.000000  "
      ]
     },
     "execution_count": 983,
     "metadata": {},
     "output_type": "execute_result"
    }
   ],
   "source": [
    "adopted.corr(method = 'spearman')"
   ]
  },
  {
   "cell_type": "code",
   "execution_count": 984,
   "id": "9ab93023-20d8-492d-865a-4f1423b764b8",
   "metadata": {},
   "outputs": [
    {
     "name": "stdout",
     "output_type": "stream",
     "text": [
      "<class 'pandas.core.frame.DataFrame'>\n",
      "Int64Index: 20982 entries, 9 to 45067\n",
      "Data columns (total 31 columns):\n",
      " #   Column                          Non-Null Count  Dtype          \n",
      "---  ------                          --------------  -----          \n",
      " 0   animal_id                       20982 non-null  object         \n",
      " 1   breed_0                         20982 non-null  object         \n",
      " 2   breed_1                         6428 non-null   object         \n",
      " 3   description_0                   20982 non-null  object         \n",
      " 4   description_1                   6428 non-null   object         \n",
      " 5   avg_height_final                20982 non-null  float64        \n",
      " 6   avg_weight_final                20860 non-null  float64        \n",
      " 7   avg_expectancy_final            20944 non-null  float64        \n",
      " 8   grooming_frequency_value_final  20479 non-null  float64        \n",
      " 9   shedding_value_final            20403 non-null  float64        \n",
      " 10  energy_level_value_final        20702 non-null  float64        \n",
      " 11  trainability_value_final        20684 non-null  float64        \n",
      " 12  demeanor_value_final            20676 non-null  float64        \n",
      " 13  temperament                     20982 non-null  object         \n",
      " 14  group                           20982 non-null  object         \n",
      " 15  date_of_birth                   20982 non-null  datetime64[ns] \n",
      " 16  intake_type                     20982 non-null  category       \n",
      " 17  intake_condition                20982 non-null  object         \n",
      " 18  age_intake                      20982 non-null  float64        \n",
      " 19  intake_datetime                 20982 non-null  datetime64[ns] \n",
      " 20  intake_weekday                  20982 non-null  category       \n",
      " 21  color                           20982 non-null  object         \n",
      " 22  outcome_subtype                 2588 non-null   category       \n",
      " 23  outcome_type                    20982 non-null  category       \n",
      " 24  outcome_datetime                20982 non-null  datetime64[ns] \n",
      " 25  outcome_weekday                 20982 non-null  category       \n",
      " 26  stays_count                     20982 non-null  float64        \n",
      " 27  age_outcome                     20982 non-null  float64        \n",
      " 28  total_time_in_shelter           20982 non-null  timedelta64[ns]\n",
      " 29  days_in_shelter                 20982 non-null  int64          \n",
      " 30  adopted_class                   20982 non-null  int64          \n",
      "dtypes: category(5), datetime64[ns](3), float64(11), int64(2), object(9), timedelta64[ns](1)\n",
      "memory usage: 4.4+ MB\n"
     ]
    }
   ],
   "source": [
    "adopted.info()"
   ]
  },
  {
   "cell_type": "code",
   "execution_count": 985,
   "id": "84732034-fda0-4747-91d0-fe8e48f20388",
   "metadata": {},
   "outputs": [],
   "source": [
    "adopted_features = adopted.copy().drop(columns = ['breed_0', 'breed_1', 'description_0', 'description_1', 'temperament', 'total_time_in_shelter', 'animal_id', 'outcome_subtype'])"
   ]
  },
  {
   "cell_type": "code",
   "execution_count": 2066,
   "id": "6cc333ae-16cc-4c59-bbd9-078388e98234",
   "metadata": {},
   "outputs": [],
   "source": [
    "def make_cols_categorical(df):\n",
    "    for col in df:\n",
    "        if pd.api.types.is_numeric_dtype(df[col]):\n",
    "            df[col] = df[col].apply(lambda val: str(round(df[col].mean())) if pd.isnull(val) else str(round(val)))\n",
    "        else:\n",
    "            df[col] = df[col].apply(lambda val: str(df[col].mean()) if pd.isnull(val) else str(val))\n",
    "        df[col] = df[col].astype('category')"
   ]
  },
  {
   "cell_type": "markdown",
   "id": "befa2882-48d1-46ec-a8e8-382e1f1dfba9",
   "metadata": {},
   "source": [
    "## Catboost: ##"
   ]
  },
  {
   "cell_type": "code",
   "execution_count": 2374,
   "id": "47ae7821-63c8-4ecb-8f4f-9c03d34e2b4e",
   "metadata": {},
   "outputs": [],
   "source": [
    "adopted_features = adopted[[ \n",
    "    # 'avg_height_mixed', \n",
    "    'avg_weight_mixed', \n",
    "    'avg_expectancy_mixed',\n",
    "    'grooming_frequency_value_mixed',\n",
    "    'shedding_value_mixed',\n",
    "    'energy_level_value_mixed',\n",
    "    # 'demeanor_value_mixed',\n",
    "    'age_intake', \n",
    "    # 'temperament',\n",
    "    'group',\n",
    "    # 'stays_count',\n",
    "    'color',\n",
    "    # 'breed_0',\n",
    "    # 'breed_1',\n",
    "    'sex_upon_intake',\n",
    "    # 'description_0',\n",
    "    'intake_type',\n",
    "    'intake_condition',\n",
    "    'adopted_class']].copy()\n",
    "adopted_features['month_intake'] = adopted.intake_datetime.dt.month\n",
    "adopted_features['weekday_intake'] = adopted.intake_datetime.dt.weekday\n",
    "adopted_features['year_intake'] = adopted.intake_datetime.dt.year\n",
    "# adopted['month_'] = adopted.outcome_datetime.dt.month\n",
    "# adopted_features = adopted.copy().drop(columns = ['breed_0', 'breed_1', 'description_0', 'description_1', 'temperament', 'total_time_in_shelter', 'animal_id', 'outcome_subtype'])\n",
    "# adopted_features['breed_1'] = adopted_features.apply(lambda row: row.breed_0 if pd.isnull(row.breed_1) else row.breed_1, axis = 1)"
   ]
  },
  {
   "cell_type": "markdown",
   "id": "a02f734a-6391-4ff4-aaf1-4fd6c6a43607",
   "metadata": {},
   "source": [
    "### Splitting my data: ###"
   ]
  },
  {
   "cell_type": "code",
   "execution_count": null,
   "id": "ae83b04a-77c3-4701-b087-624d1759205d",
   "metadata": {},
   "outputs": [],
   "source": [
    "# all_colors = ' '.join(adopted_features.temperament.values).replace('/', ' ')\n",
    "# all_colors_word_count = Counter(all_colors.split(' '))\n",
    "# all_colors_word_count"
   ]
  },
  {
   "cell_type": "code",
   "execution_count": 2073,
   "id": "2b5c0408-85f1-417a-a596-c8b8398c6306",
   "metadata": {},
   "outputs": [
    {
     "data": {
      "text/plain": [
       "avg_height_mixed                     int64\n",
       "avg_expectancy_mixed              category\n",
       "grooming_frequency_value_mixed    category\n",
       "shedding_value_mixed              category\n",
       "age_intake                        category\n",
       "group                             category\n",
       "stays_count                       category\n",
       "color                             category\n",
       "sex_upon_intake                   category\n",
       "intake_type                       category\n",
       "intake_condition                  category\n",
       "adopted_class                     category\n",
       "month_outcome                     category\n",
       "weekday_outcome                   category\n",
       "dtype: object"
      ]
     },
     "execution_count": 2073,
     "metadata": {},
     "output_type": "execute_result"
    }
   ],
   "source": [
    "adopted_features.dtypes"
   ]
  },
  {
   "cell_type": "code",
   "execution_count": 2356,
   "id": "54d98c0c-171f-47d8-ba81-912bfa87c71c",
   "metadata": {},
   "outputs": [],
   "source": [
    "# adopted_features = adopted_features.copy()\n",
    "adopted_features['color'] = adopted_features.color.str.split('/').apply(lambda vals: ' '.join(sorted(vals)))\n",
    "make_cols_categorical(adopted_features)"
   ]
  },
  {
   "cell_type": "code",
   "execution_count": 2357,
   "id": "debbbe70-1488-4fc5-800e-a7ebfbf14a09",
   "metadata": {},
   "outputs": [],
   "source": [
    "adopted_features.avg_weight_mixed = pd.to_numeric(adopted_features.avg_weight_mixed)\n",
    "adopted_features.avg_expectancy_mixed = pd.to_numeric(adopted_features.avg_expectancy_mixed)\n",
    "adopted_features.age_intake = pd.to_numeric(adopted_features.age_intake)\n",
    "adopted_features.year_intake = pd.to_numeric(adopted_features.year_intake)"
   ]
  },
  {
   "cell_type": "code",
   "execution_count": 2358,
   "id": "85cd51a8-46f9-4390-831d-6e6974af7c32",
   "metadata": {},
   "outputs": [],
   "source": [
    "X = adopted_features.drop(columns = ['adopted_class']).copy()\n",
    "y = adopted_features['adopted_class']\n",
    "\n",
    "\n",
    "X_train, X_valid, y_train, y_valid = train_test_split(\n",
    "    X, y, test_size=0.20, random_state=0\n",
    ")\n",
    "\n",
    "X_test, X_valid, y_test, y_valid = train_test_split(\n",
    "    X_valid, y_valid, test_size=0.50, random_state=0,\n",
    ")\n",
    "cat_features = list(X.select_dtypes(include=['object', 'category']).columns)"
   ]
  },
  {
   "cell_type": "code",
   "execution_count": 2375,
   "id": "fe1a0db1-2e2b-4ce5-abb3-f6dbbb78a7cc",
   "metadata": {},
   "outputs": [
    {
     "data": {
      "application/vnd.jupyter.widget-view+json": {
       "model_id": "c8dd116792054b5ba25d73c3f09c1af4",
       "version_major": 2,
       "version_minor": 0
      },
      "text/plain": [
       "MetricVisualizer(layout=Layout(align_self='stretch', height='500px'))"
      ]
     },
     "metadata": {},
     "output_type": "display_data"
    },
    {
     "name": "stdout",
     "output_type": "stream",
     "text": [
      "0:\tlearn: 0.6888424\ttest: 0.6887334\tbest: 0.6887334 (0)\ttotal: 25.5ms\tremaining: 50.9s\n",
      "200:\tlearn: 0.5334419\ttest: 0.5127544\tbest: 0.5127544 (200)\ttotal: 4.12s\tremaining: 36.9s\n",
      "400:\tlearn: 0.5041673\ttest: 0.4755339\tbest: 0.4755339 (400)\ttotal: 8.11s\tremaining: 32.4s\n",
      "600:\tlearn: 0.4894435\ttest: 0.4638700\tbest: 0.4638700 (600)\ttotal: 12.3s\tremaining: 28.5s\n",
      "800:\tlearn: 0.4785824\ttest: 0.4575456\tbest: 0.4575456 (800)\ttotal: 16.6s\tremaining: 24.8s\n",
      "1000:\tlearn: 0.4697660\ttest: 0.4545639\tbest: 0.4545510 (998)\ttotal: 20.9s\tremaining: 20.8s\n",
      "1200:\tlearn: 0.4622400\ttest: 0.4520830\tbest: 0.4520389 (1177)\ttotal: 25.4s\tremaining: 16.9s\n",
      "1400:\tlearn: 0.4553073\ttest: 0.4502628\tbest: 0.4502595 (1399)\ttotal: 29.8s\tremaining: 12.7s\n",
      "1600:\tlearn: 0.4494984\ttest: 0.4487162\tbest: 0.4487162 (1600)\ttotal: 34.2s\tremaining: 8.52s\n",
      "1800:\tlearn: 0.4432039\ttest: 0.4478537\tbest: 0.4478444 (1798)\ttotal: 38.9s\tremaining: 4.3s\n",
      "1999:\tlearn: 0.4377980\ttest: 0.4469942\tbest: 0.4469942 (1999)\ttotal: 43.6s\tremaining: 0us\n",
      "\n",
      "bestTest = 0.4469942454\n",
      "bestIteration = 1999\n",
      "\n",
      "Model is fitted: True\n",
      "Model params:\n",
      "{'iterations': 2000, 'learning_rate': 0.02, 'loss_function': 'Logloss', 'custom_loss': ['Accuracy'], 'early_stopping_rounds': 50, 'cat_features': ['grooming_frequency_value_mixed', 'shedding_value_mixed', 'energy_level_value_mixed', 'group', 'color', 'sex_upon_intake', 'intake_type', 'intake_condition', 'month_intake', 'weekday_intake']}\n"
     ]
    }
   ],
   "source": [
    "model = CatBoostClassifier(\n",
    "    loss_function = \"Logloss\",\n",
    "    iterations = 2000,\n",
    "    cat_features = cat_features,\n",
    "    custom_loss=[ 'Accuracy'],\n",
    "    learning_rate = 0.02,\n",
    "    early_stopping_rounds=50\n",
    ")\n",
    "model.fit(X_train, y_train, eval_set = (X_valid, y_valid), verbose = 200,  plot=True)\n",
    "\n",
    "print('Model is fitted: {}'.format(model.is_fitted()))\n",
    "print('Model params:\\n{}'.format(model.get_params()))\n"
   ]
  },
  {
   "cell_type": "code",
   "execution_count": 2376,
   "id": "21127f65-dd46-491d-921f-daa95305da2c",
   "metadata": {},
   "outputs": [
    {
     "data": {
      "application/vnd.jupyter.widget-view+json": {
       "model_id": "684285bc24fa4fcc8475a9be0728481e",
       "version_major": 2,
       "version_minor": 0
      },
      "text/plain": [
       "MetricVisualizer(layout=Layout(align_self='stretch', height='500px'))"
      ]
     },
     "metadata": {},
     "output_type": "display_data"
    },
    {
     "name": "stdout",
     "output_type": "stream",
     "text": [
      "Training on fold [0/4]\n",
      "\n",
      "bestTest = 0.4781975165\n",
      "bestIteration = 2279\n",
      "\n",
      "Training on fold [1/4]\n",
      "\n",
      "bestTest = 0.487950803\n",
      "bestIteration = 2447\n",
      "\n",
      "Training on fold [2/4]\n",
      "\n",
      "bestTest = 0.4870921148\n",
      "bestIteration = 1213\n",
      "\n",
      "Training on fold [3/4]\n",
      "\n",
      "bestTest = 0.4746727548\n",
      "bestIteration = 2978\n",
      "\n"
     ]
    }
   ],
   "source": [
    "from catboost import cv\n",
    "\n",
    "params = {\n",
    "    'loss_function': 'Logloss',\n",
    "    'iterations': 3000,\n",
    "    'custom_loss': 'Accuracy',\n",
    "    'learning_rate': 0.02,\n",
    "    'early_stopping_rounds': 50\n",
    "}\n",
    "\n",
    "train_pool = catboost.Pool(\n",
    "    data = X_train, \n",
    "    label = y_train, \n",
    "    cat_features = cat_features\n",
    ")\n",
    "\n",
    "cv_data = cv(\n",
    "    params = params,\n",
    "    pool = train_pool,\n",
    "    fold_count=4,\n",
    "    # shuffle=True,\n",
    "    partition_random_seed=0,\n",
    "    plot=True,\n",
    "    # stratified=False,\n",
    "    verbose=False\n",
    ")"
   ]
  },
  {
   "cell_type": "code",
   "execution_count": 2372,
   "id": "bbfa05e4-216c-4a83-a53a-0facad743ca1",
   "metadata": {},
   "outputs": [
    {
     "data": {
      "text/plain": [
       "array([[7301., 1245.],\n",
       "       [1060., 7279.]])"
      ]
     },
     "execution_count": 2372,
     "metadata": {},
     "output_type": "execute_result"
    }
   ],
   "source": [
    "from catboost.utils import get_confusion_matrix\n",
    "train_pool = catboost.Pool(\n",
    "    data = X_train, \n",
    "    label = y_train, \n",
    "    cat_features = cat_features\n",
    ")\n",
    "get_confusion_matrix(model, train_pool)"
   ]
  },
  {
   "cell_type": "code",
   "execution_count": 2373,
   "id": "1c4fbcf4-dbef-4f9a-ac78-ef96589ddc9c",
   "metadata": {},
   "outputs": [
    {
     "name": "stdout",
     "output_type": "stream",
     "text": [
      "              precision    recall  f1-score   support\n",
      "\n",
      "           0       0.78      0.75      0.77      1056\n",
      "           1       0.76      0.79      0.77      1055\n",
      "\n",
      "    accuracy                           0.77      2111\n",
      "   macro avg       0.77      0.77      0.77      2111\n",
      "weighted avg       0.77      0.77      0.77      2111\n",
      "\n"
     ]
    }
   ],
   "source": [
    "# cb_classifier = catboost.CatBoostClassifier()\n",
    "from sklearn.metrics import classification_report\n",
    "y_pred = model.predict(X_test)\n",
    "\n",
    "print(classification_report(y_test, y_pred))"
   ]
  },
  {
   "cell_type": "code",
   "execution_count": 2314,
   "id": "e48ed9ba-72aa-4d6d-aebd-6b286f77e5f7",
   "metadata": {},
   "outputs": [
    {
     "data": {
      "text/html": [
       "<div>\n",
       "<style scoped>\n",
       "    .dataframe tbody tr th:only-of-type {\n",
       "        vertical-align: middle;\n",
       "    }\n",
       "\n",
       "    .dataframe tbody tr th {\n",
       "        vertical-align: top;\n",
       "    }\n",
       "\n",
       "    .dataframe thead th {\n",
       "        text-align: right;\n",
       "    }\n",
       "</style>\n",
       "<table border=\"1\" class=\"dataframe\">\n",
       "  <thead>\n",
       "    <tr style=\"text-align: right;\">\n",
       "      <th></th>\n",
       "      <th>Feature Id</th>\n",
       "      <th>Importances</th>\n",
       "    </tr>\n",
       "  </thead>\n",
       "  <tbody>\n",
       "    <tr>\n",
       "      <th>0</th>\n",
       "      <td>group</td>\n",
       "      <td>18.125176</td>\n",
       "    </tr>\n",
       "    <tr>\n",
       "      <th>1</th>\n",
       "      <td>color</td>\n",
       "      <td>10.477078</td>\n",
       "    </tr>\n",
       "    <tr>\n",
       "      <th>2</th>\n",
       "      <td>age_intake</td>\n",
       "      <td>10.442401</td>\n",
       "    </tr>\n",
       "    <tr>\n",
       "      <th>3</th>\n",
       "      <td>avg_weight_mixed</td>\n",
       "      <td>9.675241</td>\n",
       "    </tr>\n",
       "    <tr>\n",
       "      <th>4</th>\n",
       "      <td>month_intake</td>\n",
       "      <td>9.420489</td>\n",
       "    </tr>\n",
       "    <tr>\n",
       "      <th>5</th>\n",
       "      <td>year_intake</td>\n",
       "      <td>8.945113</td>\n",
       "    </tr>\n",
       "    <tr>\n",
       "      <th>6</th>\n",
       "      <td>weekday_intake</td>\n",
       "      <td>8.482139</td>\n",
       "    </tr>\n",
       "    <tr>\n",
       "      <th>7</th>\n",
       "      <td>intake_condition</td>\n",
       "      <td>6.516874</td>\n",
       "    </tr>\n",
       "    <tr>\n",
       "      <th>8</th>\n",
       "      <td>sex_upon_intake</td>\n",
       "      <td>6.259554</td>\n",
       "    </tr>\n",
       "    <tr>\n",
       "      <th>9</th>\n",
       "      <td>intake_type</td>\n",
       "      <td>4.836314</td>\n",
       "    </tr>\n",
       "    <tr>\n",
       "      <th>10</th>\n",
       "      <td>avg_expectancy_mixed</td>\n",
       "      <td>3.755828</td>\n",
       "    </tr>\n",
       "    <tr>\n",
       "      <th>11</th>\n",
       "      <td>grooming_frequency_value_mixed</td>\n",
       "      <td>2.275065</td>\n",
       "    </tr>\n",
       "    <tr>\n",
       "      <th>12</th>\n",
       "      <td>shedding_value_mixed</td>\n",
       "      <td>0.706541</td>\n",
       "    </tr>\n",
       "    <tr>\n",
       "      <th>13</th>\n",
       "      <td>energy_level_value_mixed</td>\n",
       "      <td>0.082187</td>\n",
       "    </tr>\n",
       "  </tbody>\n",
       "</table>\n",
       "</div>"
      ],
      "text/plain": [
       "                        Feature Id  Importances\n",
       "0                            group    18.125176\n",
       "1                            color    10.477078\n",
       "2                       age_intake    10.442401\n",
       "3                 avg_weight_mixed     9.675241\n",
       "4                     month_intake     9.420489\n",
       "5                      year_intake     8.945113\n",
       "6                   weekday_intake     8.482139\n",
       "7                 intake_condition     6.516874\n",
       "8                  sex_upon_intake     6.259554\n",
       "9                      intake_type     4.836314\n",
       "10            avg_expectancy_mixed     3.755828\n",
       "11  grooming_frequency_value_mixed     2.275065\n",
       "12            shedding_value_mixed     0.706541\n",
       "13        energy_level_value_mixed     0.082187"
      ]
     },
     "execution_count": 2314,
     "metadata": {},
     "output_type": "execute_result"
    }
   ],
   "source": [
    "feature_importance = model.get_feature_importance(prettified=True)\n",
    "feature_importance"
   ]
  },
  {
   "cell_type": "code",
   "execution_count": 2315,
   "id": "c97e69f0-03dc-40b2-8692-55fe6db57786",
   "metadata": {},
   "outputs": [
    {
     "data": {
      "text/plain": [
       "avg_weight_mixed                     int64\n",
       "avg_expectancy_mixed                 int64\n",
       "grooming_frequency_value_mixed    category\n",
       "shedding_value_mixed              category\n",
       "energy_level_value_mixed          category\n",
       "age_intake                           int64\n",
       "group                             category\n",
       "color                             category\n",
       "sex_upon_intake                   category\n",
       "intake_type                       category\n",
       "intake_condition                  category\n",
       "adopted_class                     category\n",
       "month_intake                      category\n",
       "weekday_intake                    category\n",
       "year_intake                          int64\n",
       "dtype: object"
      ]
     },
     "execution_count": 2315,
     "metadata": {},
     "output_type": "execute_result"
    }
   ],
   "source": [
    "adopted_features.dtypes"
   ]
  },
  {
   "cell_type": "code",
   "execution_count": 2316,
   "id": "b71054a0-f715-4f92-893f-d80dfb82a90e",
   "metadata": {},
   "outputs": [
    {
     "data": {
      "image/png": "[encoded data removed]",
      "text/plain": [
       "<Figure size 640x480 with 1 Axes>"
      ]
     },
     "metadata": {},
     "output_type": "display_data"
    }
   ],
   "source": [
    "keys = feature_importance.loc[:, 'Feature Id']\n",
    "vals = feature_importance.loc[:, 'Importances']\n",
    "\n",
    "plt.barh(keys, vals)\n",
    "plt.show()"
   ]
  },
  {
   "cell_type": "code",
   "execution_count": 2258,
   "id": "9ec1952d-2e79-4fb0-b716-8589e300027e",
   "metadata": {},
   "outputs": [],
   "source": [
    "import shap\n",
    "\n",
    "test_pool = catboost.Pool(\n",
    "    data = X_valid, \n",
    "    label = y_valid, \n",
    "    cat_features = cat_features\n",
    ")\n",
    "\n",
    "shap_values = model.get_feature_importance(\n",
    "    data=test_pool, \n",
    "    type='ShapValues'\n",
    ")\n",
    "shap_values = shap_values[:,:-1]"
   ]
  },
  {
   "cell_type": "code",
   "execution_count": 1447,
   "id": "5630f04b-0b7b-4402-ae64-c11bb65e9bc7",
   "metadata": {},
   "outputs": [
    {
     "data": {
      "text/plain": [
       "array([[-0.74473817, -0.35551664, -0.04731844, ..., -0.04246754,\n",
       "        -0.12060982, -0.23731719],\n",
       "       [ 0.39808986,  0.19898162, -0.04456177, ...,  0.17971801,\n",
       "         0.36071552,  0.15156265],\n",
       "       [ 0.48658582,  0.08409392, -0.04685778, ...,  0.13161769,\n",
       "         0.4808128 ,  0.29381312],\n",
       "       ...,\n",
       "       [-0.40468953, -0.07078804, -0.06592936, ...,  0.0979757 ,\n",
       "         0.11160549, -0.09970684],\n",
       "       [-0.0379675 , -0.05680694, -0.04061952, ...,  0.13351035,\n",
       "        -0.1088069 ,  0.02324707],\n",
       "       [-0.06818764, -0.11868176, -0.0431021 , ...,  0.1248951 ,\n",
       "        -0.09511484, -0.03630001]])"
      ]
     },
     "execution_count": 1447,
     "metadata": {},
     "output_type": "execute_result"
    }
   ],
   "source": [
    "shap_values"
   ]
  },
  {
   "cell_type": "code",
   "execution_count": 2308,
   "id": "95f79223-876c-4861-bf90-c8dd076c6f0d",
   "metadata": {},
   "outputs": [
    {
     "ename": "AssertionError",
     "evalue": "The shape of the shap_values matrix does not match the shape of the provided data matrix. Perhaps the extra column in the shap_values matrix is the constant offset? Of so just pass shap_values[:,:-1].",
     "output_type": "error",
     "traceback": [
      "\u001b[0;31m---------------------------------------------------------------------------\u001b[0m",
      "\u001b[0;31mAssertionError\u001b[0m                            Traceback (most recent call last)",
      "Cell \u001b[0;32mIn[2308], line 1\u001b[0m\n\u001b[0;32m----> 1\u001b[0m \u001b[43mshap\u001b[49m\u001b[38;5;241;43m.\u001b[39;49m\u001b[43msummary_plot\u001b[49m\u001b[43m(\u001b[49m\u001b[43mshap_values\u001b[49m\u001b[43m,\u001b[49m\u001b[43m \u001b[49m\u001b[43mX_valid\u001b[49m\u001b[43m)\u001b[49m\n",
      "File \u001b[0;32m~/.local/lib/python3.8/site-packages/shap/plots/_beeswarm.py:550\u001b[0m, in \u001b[0;36msummary_legacy\u001b[0;34m(shap_values, features, feature_names, max_display, plot_type, color, axis_color, title, alpha, show, sort, color_bar, plot_size, layered_violin_max_num_bins, class_names, class_inds, color_bar_label, cmap, show_values_in_legend, auto_size_plot, use_log_scale)\u001b[0m\n\u001b[1;32m    547\u001b[0m shape_msg \u001b[38;5;241m=\u001b[39m \u001b[38;5;124m\"\u001b[39m\u001b[38;5;124mThe shape of the shap_values matrix does not match the shape of the \u001b[39m\u001b[38;5;124m\"\u001b[39m \\\n\u001b[1;32m    548\u001b[0m             \u001b[38;5;124m\"\u001b[39m\u001b[38;5;124mprovided data matrix.\u001b[39m\u001b[38;5;124m\"\u001b[39m\n\u001b[1;32m    549\u001b[0m \u001b[38;5;28;01mif\u001b[39;00m num_features \u001b[38;5;241m-\u001b[39m \u001b[38;5;241m1\u001b[39m \u001b[38;5;241m==\u001b[39m features\u001b[38;5;241m.\u001b[39mshape[\u001b[38;5;241m1\u001b[39m]:\n\u001b[0;32m--> 550\u001b[0m     \u001b[38;5;28;01massert\u001b[39;00m \u001b[38;5;28;01mFalse\u001b[39;00m, shape_msg \u001b[38;5;241m+\u001b[39m \u001b[38;5;124m\"\u001b[39m\u001b[38;5;124m Perhaps the extra column in the shap_values matrix is the \u001b[39m\u001b[38;5;124m\"\u001b[39m \\\n\u001b[1;32m    551\u001b[0m                   \u001b[38;5;124m\"\u001b[39m\u001b[38;5;124mconstant offset? Of so just pass shap_values[:,:-1].\u001b[39m\u001b[38;5;124m\"\u001b[39m\n\u001b[1;32m    552\u001b[0m \u001b[38;5;28;01melse\u001b[39;00m:\n\u001b[1;32m    553\u001b[0m     \u001b[38;5;28;01massert\u001b[39;00m num_features \u001b[38;5;241m==\u001b[39m features\u001b[38;5;241m.\u001b[39mshape[\u001b[38;5;241m1\u001b[39m], shape_msg\n",
      "\u001b[0;31mAssertionError\u001b[0m: The shape of the shap_values matrix does not match the shape of the provided data matrix. Perhaps the extra column in the shap_values matrix is the constant offset? Of so just pass shap_values[:,:-1]."
     ]
    }
   ],
   "source": [
    "shap.summary_plot(shap_values, X_valid)"
   ]
  },
  {
   "cell_type": "code",
   "execution_count": 2092,
   "id": "b635ed48-71ac-4b7a-8cfb-788f94e77af2",
   "metadata": {},
   "outputs": [
    {
     "data": {
      "text/plain": [
       "array([['group', 0.028887512312265946],\n",
       "       ['month_outcome', 0.027261951802486317],\n",
       "       ['color', 0.026102714879988182],\n",
       "       ['weekday_outcome', 0.024009876143480203],\n",
       "       ['age_intake', 0.019985686443432675],\n",
       "       ['avg_expectancy_mixed', 0.008386173553634418],\n",
       "       ['avg_height_mixed', 0.004930129199952837],\n",
       "       ['stays_count', 0.004035042375115126],\n",
       "       ['sex_upon_intake', 0.0031078609783218025],\n",
       "       ['grooming_frequency_value_mixed', 0.0017158586809734588],\n",
       "       ['intake_type', 0.0016876768012767432],\n",
       "       ['intake_condition', 0.0011081039498411999],\n",
       "       ['shedding_value_mixed', 0.00011447170558931408]], dtype=object)"
      ]
     },
     "execution_count": 2092,
     "metadata": {},
     "output_type": "execute_result"
    }
   ],
   "source": [
    "np.array(model.get_feature_importance(  \n",
    "    # how much on avg your LOSS FUNC changes if you change your feature value; time consuming :(.\n",
    "    # Can be negative if you'd rather remove the feature?? Bt could also might mean your model is underfit. \n",
    "    # Then overfit it and if its still negative then it's just harmful feature, remove it.\n",
    "    data=train_pool, \n",
    "    type='LossFunctionChange', \n",
    "    prettified=True\n",
    "))"
   ]
  },
  {
   "cell_type": "code",
   "execution_count": 2260,
   "id": "42a758ad-9f48-42c1-8c39-bfd8bc4759ae",
   "metadata": {},
   "outputs": [
    {
     "data": {
      "image/png": "[encoded data removed]",
      "text/plain": [
       "<Figure size 800x650 with 1 Axes>"
      ]
     },
     "metadata": {},
     "output_type": "display_data"
    }
   ],
   "source": [
    "explainer = shap.Explainer(model)\n",
    "\n",
    "shap_values = explainer(X_test, y_test)\n",
    "shap.plots.bar(shap_values)\n",
    "plt.show()"
   ]
  },
  {
   "cell_type": "code",
   "execution_count": 2655,
   "id": "c26bba2f-e888-4fe9-894e-ea64a161df9c",
   "metadata": {},
   "outputs": [],
   "source": [
    "from collections import Counter\n",
    "import nltk\n",
    "from nltk.corpus import stopwords\n",
    "from nltk.stem import PorterStemmer\n",
    "\n",
    "ps = PorterStemmer()\n",
    "all_temperament = ' '.join(adopted.temperament.values).replace('/', ' ')\n",
    "# all_temperament_word_count = Counter(re.split(r',* ', all_temperament))\n",
    "stopwords_eng = stopwords.words('english')\n",
    "all_temperament = [ps.stem(word) for word in re.split(r',* ', all_temperament) if word not in stopwords_eng]\n",
    "all_temperament_words_count = Counter(all_temperament)"
   ]
  },
  {
   "cell_type": "code",
   "execution_count": 2656,
   "id": "580c6ae3-ddc8-4be9-9d30-ce5419d8b3b4",
   "metadata": {
    "scrolled": true
   },
   "outputs": [
    {
     "data": {
      "text/plain": [
       "Counter({'friendli': 8057,\n",
       "         'curiou': 3014,\n",
       "         'spunki': 1258,\n",
       "         'charm': 4656,\n",
       "         'grace': 3782,\n",
       "         'sassi': 3731,\n",
       "         'activ': 5292,\n",
       "         'outgo': 4584,\n",
       "         'merri': 554,\n",
       "         'confid': 2236,\n",
       "         'courag': 2117,\n",
       "         'smart': 5645,\n",
       "         'loyal': 3836,\n",
       "         'hardwork': 418,\n",
       "         'even-temp': 503,\n",
       "         'alert': 2772,\n",
       "         'pleasant': 1081,\n",
       "         'independ': 1110,\n",
       "         'watch': 478,\n",
       "         'dignifi': 455,\n",
       "         'bright': 1131,\n",
       "         'serious-mind': 163,\n",
       "         'work-ori': 413,\n",
       "         'exuber': 413,\n",
       "         'proud': 857,\n",
       "         'cheer': 420,\n",
       "         'busi': 341,\n",
       "         'inquisit': 741,\n",
       "         'live': 370,\n",
       "         'sweet': 38,\n",
       "         'fun-lov': 887,\n",
       "         'sensit': 84,\n",
       "         'clever': 743,\n",
       "         'athlet': 281,\n",
       "         'affection': 2768,\n",
       "         'energet': 899,\n",
       "         'self-confid': 637,\n",
       "         'calm': 1085,\n",
       "         'lovabl': 412,\n",
       "         'devot': 381,\n",
       "         'love': 436,\n",
       "         'guardian': 248,\n",
       "         'intellig': 1115,\n",
       "         'easy-go': 131,\n",
       "         'brave': 985,\n",
       "         'patient': 615,\n",
       "         'low-key': 156,\n",
       "         'strong-wil': 40,\n",
       "         'reserv': 355,\n",
       "         'stranger': 88,\n",
       "         'obedi': 421,\n",
       "         'regal': 39,\n",
       "         'manner': 37,\n",
       "         'happi': 378,\n",
       "         'entertain': 24,\n",
       "         'amus': 150,\n",
       "         'adapt': 433,\n",
       "         'play': 1411,\n",
       "         'gentl': 454,\n",
       "         'upbeat': 386,\n",
       "         'mischiev': 1270,\n",
       "         'comic': 401,\n",
       "         'tenaci': 552,\n",
       "         'profoundli': 54,\n",
       "         'agil': 124,\n",
       "         'good-natur': 379,\n",
       "         'sprightli': 431,\n",
       "         'tomboyish': 431,\n",
       "         'plucki': 152,\n",
       "         'strong': 19,\n",
       "         'fearless': 439,\n",
       "         'people-ori': 112,\n",
       "         'independent-mind': 8,\n",
       "         'quick': 11,\n",
       "         'keenli': 62,\n",
       "         'spirit': 218,\n",
       "         'majest': 6,\n",
       "         'deepli': 49,\n",
       "         'humbl': 13,\n",
       "         'bounci': 28,\n",
       "         'charismat': 28,\n",
       "         'funni': 29,\n",
       "         'perki': 19,\n",
       "         '': 12,\n",
       "         'determin': 9,\n",
       "         'nobl': 66,\n",
       "         'versatil': 152,\n",
       "         'vivaci': 21,\n",
       "         'famous': 9,\n",
       "         'peppi': 25,\n",
       "         'faith': 16,\n",
       "         'optimist': 66,\n",
       "         'good-humor': 66,\n",
       "         'eager': 65,\n",
       "         'enthusiast': 44,\n",
       "         'trainabl': 73,\n",
       "         'courteou': 27,\n",
       "         'sweet-temp': 11,\n",
       "         'wickedli': 48,\n",
       "         'pois': 52,\n",
       "         'power': 64,\n",
       "         'amiabl': 19,\n",
       "         'pleas': 29,\n",
       "         'adventur': 2,\n",
       "         'family-ori': 37,\n",
       "         'polit': 19,\n",
       "         'depend': 82,\n",
       "         'attent': 27,\n",
       "         'sociabl': 25,\n",
       "         'bold': 102,\n",
       "         'good-temp': 6,\n",
       "         'canni': 6,\n",
       "         'will': 13,\n",
       "         'gregari': 40,\n",
       "         'observ': 51,\n",
       "         'mellow': 9,\n",
       "         'vigil': 11,\n",
       "         'sweet-natur': 2,\n",
       "         'dash': 17,\n",
       "         'tenderheart': 17,\n",
       "         'aristocrat': 9,\n",
       "         'also': 2,\n",
       "         'work-oriented.': 2,\n",
       "         'upbeat.': 2,\n",
       "         'boister': 3,\n",
       "         'respons': 4,\n",
       "         'kind': 1,\n",
       "         'sens': 1,\n",
       "         'humor': 1,\n",
       "         'frollick': 2,\n",
       "         'posit': 5,\n",
       "         'happy-go-lucki': 2})"
      ]
     },
     "execution_count": 2656,
     "metadata": {},
     "output_type": "execute_result"
    }
   ],
   "source": [
    "all_temperament_words_count"
   ]
  },
  {
   "cell_type": "code",
   "execution_count": 2666,
   "id": "86f6611a-3fb7-4e42-a9ab-047c0e941669",
   "metadata": {},
   "outputs": [
    {
     "data": {
      "text/plain": [
       "<21107x32 sparse matrix of type '<class 'numpy.int64'>'\n",
       "\twith 86337 stored elements in Compressed Sparse Row format>"
      ]
     },
     "execution_count": 2666,
     "metadata": {},
     "output_type": "execute_result"
    }
   ],
   "source": [
    "from sklearn.feature_extraction.text import CountVectorizer\n",
    "\n",
    "count_vec_temperament = CountVectorizer(\n",
    "    stop_words = 'english', \n",
    "    strip_accents = 'unicode', \n",
    "    ngram_range = (1, 2),\n",
    "    min_df = 1000)\n",
    "count_vec_temperament.fit(adopted.temperament)\n",
    "count_vec_temperament.vocabulary_\n",
    "vectors_temp = count_vec_temperament.transform(adopted.temperament)\n",
    "vectors_temp"
   ]
  },
  {
   "cell_type": "code",
   "execution_count": 2697,
   "id": "839aa07c-ed1d-4ef9-a138-366643691c87",
   "metadata": {},
   "outputs": [],
   "source": [
    "def get_NB_preditions(_X_train, _X_test, _y_train):\n",
    "    model = MultinomialNB()\n",
    "    model.fit(_X_train, _y_train)\n",
    "    _y_pred = model.predict(_X_test)\n",
    "    return _y_pred"
   ]
  },
  {
   "cell_type": "code",
   "execution_count": 2698,
   "id": "2167c060-ec80-434a-8fc1-0476afe69e5b",
   "metadata": {},
   "outputs": [
    {
     "data": {
      "text/plain": [
       "0.5828990999526291"
      ]
     },
     "execution_count": 2698,
     "metadata": {},
     "output_type": "execute_result"
    }
   ],
   "source": [
    "from sklearn.naive_bayes import MultinomialNB\n",
    "from sklearn.metrics import accuracy_score,  classification_report\n",
    "X_t = vectors_temp\n",
    "y_t = adopted['adopted_class'] \n",
    "\n",
    "X_t_train, X_t_test, y_t_train, y_t_test = train_test_split(X_t, y_t, test_size = 0.2)\n",
    "\n",
    "y_pred_temp = get_NB_preditions(X_t_train, X_t_test, y_t_train)\n",
    "accuracy = accuracy_score(y_t_test, y_pred_temp)\n",
    "accuracy"
   ]
  },
  {
   "cell_type": "code",
   "execution_count": 2507,
   "id": "e7657525-7876-448e-b298-4dff78d0e097",
   "metadata": {},
   "outputs": [
    {
     "data": {
      "text/plain": [
       "0.5210800568450971"
      ]
     },
     "execution_count": 2507,
     "metadata": {},
     "output_type": "execute_result"
    }
   ],
   "source": [
    "dummy = [str(random.randint(0,1)) for y in y_pred]\n",
    "accuracy_score(dummy, y_pred)"
   ]
  },
  {
   "cell_type": "code",
   "execution_count": 2436,
   "id": "a4274e00-4d1e-4eeb-b94d-82d4565029b6",
   "metadata": {},
   "outputs": [
    {
     "data": {
      "text/plain": [
       "(21107, 112)"
      ]
     },
     "execution_count": 2436,
     "metadata": {},
     "output_type": "execute_result"
    }
   ],
   "source": [
    "vectors.shape"
   ]
  },
  {
   "cell_type": "code",
   "execution_count": 2618,
   "id": "d60c7354-aac5-4f8b-b2df-923c908ca510",
   "metadata": {},
   "outputs": [],
   "source": [
    "two_descr_idxs = ~pd.isnull(adopted['description_1'])\n",
    "adopted.loc[two_descr_idxs, 'description_0'] = adopted['description_0'] + ' ' + adopted['description_1']"
   ]
  },
  {
   "cell_type": "code",
   "execution_count": 2694,
   "id": "383a5670-e483-41ed-a405-3f78f7ca1c96",
   "metadata": {},
   "outputs": [
    {
     "data": {
      "text/plain": [
       "<21107x811 sparse matrix of type '<class 'numpy.int64'>'\n",
       "\twith 1801868 stored elements in Compressed Sparse Row format>"
      ]
     },
     "execution_count": 2694,
     "metadata": {},
     "output_type": "execute_result"
    }
   ],
   "source": [
    "count_vec_description = CountVectorizer(\n",
    "    stop_words = 'english', \n",
    "    strip_accents = 'unicode', \n",
    "    ngram_range = (1, 1),\n",
    "    min_df = 500)\n",
    "count_vec_description.fit(adopted.description_0)\n",
    "count_vec_description.vocabulary_\n",
    "vectors = count_vec_description.transform(adopted.description_0)\n",
    "vectors"
   ]
  },
  {
   "cell_type": "code",
   "execution_count": 2696,
   "id": "9d3317ca-4719-43d0-87fc-4f92ca0882ec",
   "metadata": {},
   "outputs": [
    {
     "ename": "NameError",
     "evalue": "name '_y_train' is not defined",
     "output_type": "error",
     "traceback": [
      "\u001b[0;31m---------------------------------------------------------------------------\u001b[0m",
      "\u001b[0;31mNameError\u001b[0m                                 Traceback (most recent call last)",
      "Cell \u001b[0;32mIn[2696], line 6\u001b[0m\n\u001b[1;32m      2\u001b[0m y \u001b[38;5;241m=\u001b[39m adopted[\u001b[38;5;124m'\u001b[39m\u001b[38;5;124madopted_class\u001b[39m\u001b[38;5;124m'\u001b[39m] \n\u001b[1;32m      4\u001b[0m X_train_nb, X_test_nb, y_train_nb, y_test_nb \u001b[38;5;241m=\u001b[39m train_test_split(X_nb, y, test_size \u001b[38;5;241m=\u001b[39m \u001b[38;5;241m0.2\u001b[39m)\n\u001b[0;32m----> 6\u001b[0m y_pred_nb \u001b[38;5;241m=\u001b[39m \u001b[43mget_NB_preditions\u001b[49m\u001b[43m(\u001b[49m\u001b[43mX_train_nb\u001b[49m\u001b[43m,\u001b[49m\u001b[43m \u001b[49m\u001b[43mX_test_nb\u001b[49m\u001b[43m)\u001b[49m\n\u001b[1;32m      7\u001b[0m accuracy \u001b[38;5;241m=\u001b[39m accuracy_score(y_test_nb, y_pred_nb)\n\u001b[1;32m      8\u001b[0m accuracy\n",
      "Cell \u001b[0;32mIn[2693], line 3\u001b[0m, in \u001b[0;36mget_NB_preditions\u001b[0;34m(_X_train, _X_test)\u001b[0m\n\u001b[1;32m      1\u001b[0m \u001b[38;5;28;01mdef\u001b[39;00m \u001b[38;5;21mget_NB_preditions\u001b[39m(_X_train, _X_test):\n\u001b[1;32m      2\u001b[0m     model \u001b[38;5;241m=\u001b[39m MultinomialNB()\n\u001b[0;32m----> 3\u001b[0m     model\u001b[38;5;241m.\u001b[39mfit(_X_train, \u001b[43m_y_train\u001b[49m)\n\u001b[1;32m      4\u001b[0m     _y_pred \u001b[38;5;241m=\u001b[39m model\u001b[38;5;241m.\u001b[39mpredict(_X_test)\n\u001b[1;32m      5\u001b[0m     \u001b[38;5;28;01mreturn\u001b[39;00m _y_pred\n",
      "\u001b[0;31mNameError\u001b[0m: name '_y_train' is not defined"
     ]
    }
   ],
   "source": [
    "X_nb = vectors\n",
    "y = adopted['adopted_class'] \n",
    "\n",
    "X_train_nb, X_test_nb, y_train_nb, y_test_nb = train_test_split(X_nb, y, test_size = 0.2)\n",
    "\n",
    "y_pred_nb = get_NB_preditions(X_train_nb, X_test_nb)\n",
    "accuracy = accuracy_score(y_test_nb, y_pred_nb)\n",
    "accuracy"
   ]
  },
  {
   "cell_type": "code",
   "execution_count": null,
   "id": "0db02426-83c6-427f-9fed-8df32e9da6e8",
   "metadata": {},
   "outputs": [],
   "source": [
    "model.predict_probs(X_test)"
   ]
  },
  {
   "cell_type": "markdown",
   "id": "26d64a6d-720c-4cb6-b0a8-3daf540fb0b9",
   "metadata": {},
   "source": [
    "## References: ##\n",
    "\n",
    "<ol>\n",
    "    <li>\n",
    "        <a href=\"https://www.kaggle.com/datasets/aaronschlegel/austin-animal-center-shelter-intakes-and-outcomes\">Kaggle dataset - Austin Animal Center Shelter Intakes and Outcomes</a>\n",
    "    </li>\n",
    "    <li>\n",
    "        <a href=\"https://www.kaggle.com/datasets/mexwell/dog-breeds-dataset\">Kaggle dataset - Dog Breeds Dataset AKC</a>\n",
    "    </li>\n",
    "    <li>\n",
    "        <a href=\"https://www.researchgate.net/publication/373805640_Predicting_Animal_Shelter_Pet_Adoption_Times_and_Feature_Importance_Analysis_using_CatBoost\">Predicting Animal Shelter Pet Adoption Times and Feature Importance Analysis using CatBoost</a>\n",
    "    </li>\n",
    "    <li>\n",
    "        <a href=\"https://catboost.ai/en/docs/concepts/tutorials\">CatBoost Functionality Introduction</a>\n",
    "    </li>\n",
    "</ol>\n"
   ]
  }
 ],
 "metadata": {
  "kernelspec": {
   "display_name": "Python 3 (ipykernel)",
   "language": "python",
   "name": "python3"
  },
  "language_info": {
   "codemirror_mode": {
    "name": "ipython",
    "version": 3
   },
   "file_extension": ".py",
   "mimetype": "text/x-python",
   "name": "python",
   "nbconvert_exporter": "python",
   "pygments_lexer": "ipython3",
   "version": "3.8.10"
  }
 },
 "nbformat": 4,
 "nbformat_minor": 5
}
